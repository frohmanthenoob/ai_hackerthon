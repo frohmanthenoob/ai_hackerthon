{
 "cells": [
  {
   "cell_type": "code",
   "execution_count": 1,
   "metadata": {},
   "outputs": [],
   "source": [
    "import os\n",
    "import matplotlib.pyplot as plt \n",
    "import cv2\n",
    "import pandas as pd\n",
    "import numpy as np\n",
    "import gc\n",
    "from functools import reduce\n",
    "from skimage import io as skio"
   ]
  },
  {
   "cell_type": "code",
   "execution_count": 2,
   "metadata": {},
   "outputs": [
    {
     "name": "stderr",
     "output_type": "stream",
     "text": [
      "Using TensorFlow backend.\n"
     ]
    }
   ],
   "source": [
    "from keras.models import Sequential\n",
    "from keras.layers import Dense, Activation, Dropout, Flatten\n",
    "from keras.layers import Conv2D\n",
    "from keras.layers import MaxPooling2D\n",
    "from keras.callbacks import ModelCheckpoint, ReduceLROnPlateau\n",
    "from keras import optimizers\n",
    "from keras import losses\n",
    "from keras import metrics"
   ]
  },
  {
   "cell_type": "code",
   "execution_count": 3,
   "metadata": {},
   "outputs": [
    {
     "name": "stdout",
     "output_type": "stream",
     "text": [
      "_________________________________________________________________\n",
      "Layer (type)                 Output Shape              Param #   \n",
      "=================================================================\n",
      "conv2d_1 (Conv2D)            (None, 250, 250, 64)      1792      \n",
      "_________________________________________________________________\n",
      "conv2d_2 (Conv2D)            (None, 250, 250, 64)      36928     \n",
      "_________________________________________________________________\n",
      "max_pooling2d_1 (MaxPooling2 (None, 125, 125, 64)      0         \n",
      "_________________________________________________________________\n",
      "conv2d_3 (Conv2D)            (None, 125, 125, 128)     73856     \n",
      "_________________________________________________________________\n",
      "conv2d_4 (Conv2D)            (None, 125, 125, 128)     147584    \n",
      "_________________________________________________________________\n",
      "max_pooling2d_2 (MaxPooling2 (None, 62, 62, 128)       0         \n",
      "_________________________________________________________________\n",
      "conv2d_5 (Conv2D)            (None, 62, 62, 256)       295168    \n",
      "_________________________________________________________________\n",
      "conv2d_6 (Conv2D)            (None, 62, 62, 256)       590080    \n",
      "_________________________________________________________________\n",
      "conv2d_7 (Conv2D)            (None, 62, 62, 256)       590080    \n",
      "_________________________________________________________________\n",
      "max_pooling2d_3 (MaxPooling2 (None, 31, 31, 256)       0         \n",
      "_________________________________________________________________\n",
      "conv2d_8 (Conv2D)            (None, 31, 31, 512)       1180160   \n",
      "_________________________________________________________________\n",
      "conv2d_9 (Conv2D)            (None, 31, 31, 512)       2359808   \n",
      "_________________________________________________________________\n",
      "conv2d_10 (Conv2D)           (None, 31, 31, 512)       2359808   \n",
      "_________________________________________________________________\n",
      "max_pooling2d_4 (MaxPooling2 (None, 15, 15, 512)       0         \n",
      "_________________________________________________________________\n",
      "conv2d_11 (Conv2D)           (None, 15, 15, 512)       2359808   \n",
      "_________________________________________________________________\n",
      "conv2d_12 (Conv2D)           (None, 15, 15, 512)       2359808   \n",
      "_________________________________________________________________\n",
      "conv2d_13 (Conv2D)           (None, 15, 15, 512)       2359808   \n",
      "_________________________________________________________________\n",
      "max_pooling2d_5 (MaxPooling2 (None, 7, 7, 512)         0         \n",
      "_________________________________________________________________\n",
      "flatten_1 (Flatten)          (None, 25088)             0         \n",
      "_________________________________________________________________\n",
      "dense_1 (Dense)              (None, 4096)              102764544 \n",
      "_________________________________________________________________\n",
      "dense_2 (Dense)              (None, 512)               2097664   \n",
      "_________________________________________________________________\n",
      "dense_3 (Dense)              (None, 18)                9234      \n",
      "=================================================================\n",
      "Total params: 119,586,130\n",
      "Trainable params: 119,586,130\n",
      "Non-trainable params: 0\n",
      "_________________________________________________________________\n"
     ]
    }
   ],
   "source": [
    "input_shape = (250, 250, 3)\n",
    "\n",
    "model = Sequential([\n",
    "    Conv2D(64, (3, 3), input_shape=input_shape, padding='same',\n",
    "           activation='relu'),\n",
    "    Conv2D(64, (3, 3), activation='relu', padding='same'),\n",
    "    MaxPooling2D(pool_size=(2, 2), strides=(2, 2)),\n",
    "    Conv2D(128, (3, 3), activation='relu', padding='same'),\n",
    "    Conv2D(128, (3, 3), activation='relu', padding='same',),\n",
    "    MaxPooling2D(pool_size=(2, 2), strides=(2, 2)),\n",
    "    Conv2D(256, (3, 3), activation='relu', padding='same',),\n",
    "    Conv2D(256, (3, 3), activation='relu', padding='same',),\n",
    "    Conv2D(256, (3, 3), activation='relu', padding='same',),\n",
    "    MaxPooling2D(pool_size=(2, 2), strides=(2, 2)),\n",
    "    Conv2D(512, (3, 3), activation='relu', padding='same',),\n",
    "    Conv2D(512, (3, 3), activation='relu', padding='same',),\n",
    "    Conv2D(512, (3, 3), activation='relu', padding='same',),\n",
    "    MaxPooling2D(pool_size=(2, 2), strides=(2, 2)),\n",
    "    Conv2D(512, (3, 3), activation='relu', padding='same',),\n",
    "    Conv2D(512, (3, 3), activation='relu', padding='same',),\n",
    "    Conv2D(512, (3, 3), activation='relu', padding='same',),\n",
    "    MaxPooling2D(pool_size=(2, 2), strides=(2, 2)),\n",
    "    Flatten(),\n",
    "    Dense(4096, activation='relu'),\n",
    "    Dense(512, activation='relu'),\n",
    "    Dense(18, activation='softmax')\n",
    "])\n",
    "\n",
    "model.summary()"
   ]
  },
  {
   "cell_type": "code",
   "execution_count": 4,
   "metadata": {},
   "outputs": [],
   "source": [
    "save_model_name = \"hackerthon_mean_s1.model\""
   ]
  },
  {
   "cell_type": "code",
   "execution_count": 5,
   "metadata": {},
   "outputs": [],
   "source": [
    "def getDf(path,W):\n",
    "    o = {}\n",
    "    o['name'] = []\n",
    "    o['image'] = []\n",
    "    for p in os.listdir(path):\n",
    "        for filename in os.listdir(path+\"/\"+p):\n",
    "            o['name'].append(p)\n",
    "            oriimg = plt.imread(path+\"/\"+p+\"/\"+filename)\n",
    "            height, width, depth = oriimg.shape\n",
    "            imgScale = W/width if width>height else W/height\n",
    "            newX,newY = width*imgScale, height*imgScale\n",
    "            newSize = newX if newX>newY else newY\n",
    "            newimg = cv2.resize(oriimg,(int(newSize),int(newSize)))\n",
    "            o['image'].append(newimg.tolist())\n",
    "    return o"
   ]
  },
  {
   "cell_type": "code",
   "execution_count": 6,
   "metadata": {},
   "outputs": [],
   "source": [
    "data = pd.DataFrame.from_dict(getDf('./data',250.))"
   ]
  },
  {
   "cell_type": "code",
   "execution_count": 7,
   "metadata": {},
   "outputs": [],
   "source": [
    "def getTrainSet(d):\n",
    "    a = d['image'].tolist()\n",
    "    x_train = reduce(lambda x,y: np.concatenate((np.array(x).reshape(-1,250,250,3),np.array(y).reshape(-1,250,250,3)),axis=0),a)\n",
    "    y_train = pd.get_dummies(data['name'])\n",
    "    return x_train,y_train"
   ]
  },
  {
   "cell_type": "code",
   "execution_count": 8,
   "metadata": {},
   "outputs": [],
   "source": [
    "x_train,y_train = getTrainSet(data)"
   ]
  },
  {
   "cell_type": "code",
   "execution_count": null,
   "metadata": {},
   "outputs": [],
   "source": []
  },
  {
   "cell_type": "code",
   "execution_count": 9,
   "metadata": {},
   "outputs": [],
   "source": [
    "model.compile(optimizer= optimizers.Adam(lr=0.01, beta_1=0.9, beta_2=0.999, epsilon=0.001, decay=0.01, amsgrad=True),\n",
    "              loss=losses.categorical_hinge,\n",
    "              metrics=[metrics.mean_absolute_error, metrics.categorical_accuracy])"
   ]
  },
  {
   "cell_type": "code",
   "execution_count": 10,
   "metadata": {},
   "outputs": [],
   "source": [
    "model_checkpoint = ModelCheckpoint(save_model_name,monitor='val_acc')\n",
    "\n",
    "reduce_lr = ReduceLROnPlateau(monitor='val_loss', factor=0.2,\n",
    "                              patience=2, min_lr=0.000001)"
   ]
  },
  {
   "cell_type": "code",
   "execution_count": null,
   "metadata": {},
   "outputs": [],
   "source": []
  },
  {
   "cell_type": "code",
   "execution_count": null,
   "metadata": {},
   "outputs": [],
   "source": []
  },
  {
   "cell_type": "code",
   "execution_count": 11,
   "metadata": {},
   "outputs": [
    {
     "name": "stdout",
     "output_type": "stream",
     "text": [
      "Train on 216 samples, validate on 107 samples\n",
      "Epoch 1/5\n",
      "216/216 [==============================] - 252s 1s/step - loss: 1.6355 - mean_absolute_error: 0.1013 - categorical_accuracy: 0.0833 - val_loss: 2.0000 - val_mean_absolute_error: 0.1111 - val_categorical_accuracy: 0.0000e+00\n",
      "Epoch 2/5\n",
      "216/216 [==============================] - 244s 1s/step - loss: 1.7778 - mean_absolute_error: 0.0988 - categorical_accuracy: 0.1111 - val_loss: 2.0000 - val_mean_absolute_error: 0.1111 - val_categorical_accuracy: 0.0000e+00\n",
      "Epoch 3/5\n",
      "216/216 [==============================] - 294s 1s/step - loss: 1.7778 - mean_absolute_error: 0.0988 - categorical_accuracy: 0.1111 - val_loss: 2.0000 - val_mean_absolute_error: 0.1111 - val_categorical_accuracy: 0.0000e+00\n",
      "Epoch 4/5\n",
      "216/216 [==============================] - 286s 1s/step - loss: 1.7778 - mean_absolute_error: 0.0988 - categorical_accuracy: 0.1111 - val_loss: 2.0000 - val_mean_absolute_error: 0.1111 - val_categorical_accuracy: 0.0000e+00\n",
      "Epoch 5/5\n",
      "216/216 [==============================] - 284s 1s/step - loss: 1.7778 - mean_absolute_error: 0.0988 - categorical_accuracy: 0.1111 - val_loss: 2.0000 - val_mean_absolute_error: 0.1111 - val_categorical_accuracy: 0.0000e+00\n"
     ]
    }
   ],
   "source": [
    "hist = model.fit(x=x_train, y=y_train, validation_split=0.33,epochs=5,batch_size=32, callbacks=[model_checkpoint,reduce_lr])"
   ]
  },
  {
   "cell_type": "code",
   "execution_count": 13,
   "metadata": {},
   "outputs": [
    {
     "data": {
      "text/plain": [
       "{'val_loss': [2.0, 2.0, 2.0, 2.0, 2.0],\n",
       " 'val_mean_absolute_error': [0.1111111119389534,\n",
       "  0.1111111119389534,\n",
       "  0.1111111119389534,\n",
       "  0.1111111119389534,\n",
       "  0.1111111119389534],\n",
       " 'val_categorical_accuracy': [0.0, 0.0, 0.0, 0.0, 0.0],\n",
       " 'loss': [1.6355159415139093,\n",
       "  1.777777773362619,\n",
       "  1.7777777821929366,\n",
       "  1.7777777777777777,\n",
       "  1.777777773362619],\n",
       " 'mean_absolute_error': [0.1012855942050616,\n",
       "  0.09876543504220468,\n",
       "  0.09876543476625725,\n",
       "  0.09876543531815211,\n",
       "  0.09876543504220468],\n",
       " 'categorical_accuracy': [0.08333333360928076,\n",
       "  0.11111111166300597,\n",
       "  0.11111111138705854,\n",
       "  0.1111111111111111,\n",
       "  0.11111111166300597],\n",
       " 'lr': [0.01, 0.01, 0.01, 0.0019999999, 0.0019999999]}"
      ]
     },
     "execution_count": 13,
     "metadata": {},
     "output_type": "execute_result"
    }
   ],
   "source": [
    "hist.history"
   ]
  },
  {
   "cell_type": "code",
   "execution_count": null,
   "metadata": {},
   "outputs": [],
   "source": []
  },
  {
   "cell_type": "code",
   "execution_count": null,
   "metadata": {},
   "outputs": [],
   "source": []
  },
  {
   "cell_type": "code",
   "execution_count": 14,
   "metadata": {},
   "outputs": [
    {
     "data": {
      "text/plain": [
       "<matplotlib.legend.Legend at 0x256069f2ef0>"
      ]
     },
     "execution_count": 14,
     "metadata": {},
     "output_type": "execute_result"
    },
    {
     "data": {
      "image/png": "[encoded data removed]",
      "text/plain": [
       "<Figure size 1080x360 with 2 Axes>"
      ]
     },
     "metadata": {
      "needs_background": "light"
     },
     "output_type": "display_data"
    }
   ],
   "source": [
    "fig, (ax_loss, ax_score) = plt.subplots(1, 2, figsize=(15,5))\n",
    "ax_loss.plot(hist.epoch, hist.history[\"loss\"], label=\"Train loss\")\n",
    "ax_loss.plot(hist.epoch, hist.history[\"val_loss\"], label=\"Validation loss\")\n",
    "ax_loss.legend()\n",
    "ax_score.plot(hist.epoch, hist.history[\"categorical_accuracy\"], label=\"Train score\")\n",
    "ax_score.plot(hist.epoch, hist.history[\"val_categorical_accuracy\"], label=\"Validation score\")\n",
    "ax_score.legend()"
   ]
  },
  {
   "cell_type": "code",
   "execution_count": null,
   "metadata": {},
   "outputs": [],
   "source": []
  },
  {
   "cell_type": "code",
   "execution_count": null,
   "metadata": {},
   "outputs": [],
   "source": []
  },
  {
   "cell_type": "code",
   "execution_count": 15,
   "metadata": {},
   "outputs": [],
   "source": [
    "def imgResize(url,W):\n",
    "    oriimg = skio.imread(url)\n",
    "    height, width, depth = oriimg.shape\n",
    "    imgScale = W/width if width>height else W/height\n",
    "    newX,newY = width*imgScale, height*imgScale\n",
    "    newSize = newX if newX>newY else newY\n",
    "    newimg = cv2.resize(oriimg,(int(newSize),int(newSize)))\n",
    "    return np.array(newimg).reshape(-1,int(newSize),int(newSize),3)"
   ]
  },
  {
   "cell_type": "code",
   "execution_count": null,
   "metadata": {},
   "outputs": [],
   "source": []
  },
  {
   "cell_type": "code",
   "execution_count": null,
   "metadata": {},
   "outputs": [],
   "source": []
  },
  {
   "cell_type": "code",
   "execution_count": null,
   "metadata": {},
   "outputs": [],
   "source": []
  },
  {
   "cell_type": "code",
   "execution_count": 16,
   "metadata": {},
   "outputs": [],
   "source": [
    "def getDf(path,W):\n",
    "    o = {}\n",
    "    o['name'] = []\n",
    "    o['image'] = []\n",
    "    for p in os.listdir(path):\n",
    "        for filename in os.listdir(path+\"/\"+p):\n",
    "            o['name'].append(p)\n",
    "            oriimg = plt.imread(path+\"/\"+p+\"/\"+filename)\n",
    "            height, width, depth = oriimg.shape\n",
    "            imgScale = W/width if width>height else W/height\n",
    "            newX,newY = width*imgScale, height*imgScale\n",
    "            newSize = newX if newX>newY else newY\n",
    "            newimg = cv2.resize(oriimg,(int(newSize),int(newSize)))\n",
    "            o['image'].append(newimg.tolist())\n",
    "    return o"
   ]
  },
  {
   "cell_type": "code",
   "execution_count": null,
   "metadata": {},
   "outputs": [],
   "source": []
  },
  {
   "cell_type": "code",
   "execution_count": null,
   "metadata": {},
   "outputs": [],
   "source": []
  },
  {
   "cell_type": "code",
   "execution_count": 17,
   "metadata": {},
   "outputs": [],
   "source": [
    "def getName(m,n,img):\n",
    "    return pd.Categorical(n).categories[np.argmax(m.predict(img))]"
   ]
  },
  {
   "cell_type": "code",
   "execution_count": 18,
   "metadata": {},
   "outputs": [],
   "source": [
    "image = imgResize(\"https://diag.tactri.gov.tw/public/UploadDgnsResultImage/6519/2d8e4ed2-833c-433c-ac7d-3401af085a78.jpg\",250.)"
   ]
  },
  {
   "cell_type": "code",
   "execution_count": 19,
   "metadata": {},
   "outputs": [
    {
     "data": {
      "text/plain": [
       "'細菌性葉斑病'"
      ]
     },
     "execution_count": 19,
     "metadata": {},
     "output_type": "execute_result"
    }
   ],
   "source": [
    "# 萎凋病 \n",
    "getName(model,data['name'],image)"
   ]
  },
  {
   "cell_type": "code",
   "execution_count": null,
   "metadata": {},
   "outputs": [],
   "source": []
  },
  {
   "cell_type": "code",
   "execution_count": 20,
   "metadata": {},
   "outputs": [],
   "source": [
    "def imgResize2(i,W):\n",
    "    oriimg = np.array(i)\n",
    "    height, width, depth = oriimg.shape\n",
    "    imgScale = W/width if width>height else W/height\n",
    "    newX,newY = width*imgScale, height*imgScale\n",
    "    newSize = newX if newX>newY else newY\n",
    "    newimg = cv2.resize(oriimg,(int(newSize),int(newSize)))\n",
    "    return np.array(newimg).reshape(-1,int(newSize),int(newSize),3)"
   ]
  },
  {
   "cell_type": "code",
   "execution_count": 21,
   "metadata": {},
   "outputs": [],
   "source": [
    "j=0\n",
    "for i in range(data.shape[0]):\n",
    "    k = data.iloc[i]\n",
    "    if k['name'] == getName(model,data['name'],imgResize2(k['image'],250)):\n",
    "        j+=1"
   ]
  },
  {
   "cell_type": "code",
   "execution_count": 22,
   "metadata": {},
   "outputs": [
    {
     "data": {
      "text/plain": [
       "0.07430340557275542"
      ]
     },
     "execution_count": 22,
     "metadata": {},
     "output_type": "execute_result"
    }
   ],
   "source": [
    "j/data.shape[0]"
   ]
  },
  {
   "cell_type": "code",
   "execution_count": null,
   "metadata": {},
   "outputs": [],
   "source": []
  },
  {
   "cell_type": "code",
   "execution_count": null,
   "metadata": {},
   "outputs": [],
   "source": []
  }
 ],
 "metadata": {
  "kernelspec": {
   "display_name": "Python (life)",
   "language": "python",
   "name": "life"
  },
  "language_info": {
   "codemirror_mode": {
    "name": "ipython",
    "version": 3
   },
   "file_extension": ".py",
   "mimetype": "text/x-python",
   "name": "python",
   "nbconvert_exporter": "python",
   "pygments_lexer": "ipython3",
   "version": "3.6.0"
  }
 },
 "nbformat": 4,
 "nbformat_minor": 2
}
