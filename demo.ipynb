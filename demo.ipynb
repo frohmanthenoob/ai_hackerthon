{
 "cells": [
  {
   "cell_type": "code",
   "execution_count": 1,
   "metadata": {},
   "outputs": [
    {
     "name": "stderr",
     "output_type": "stream",
     "text": [
      "Using TensorFlow backend.\n"
     ]
    }
   ],
   "source": [
    "from keras.models import load_model\n",
    "import matplotlib.pyplot as plt\n",
    "import cv2\n",
    "import pandas as pd\n",
    "import os\n",
    "import numpy as np\n",
    "import ssl\n",
    "import urllib\n",
    "import cv2"
   ]
  },
  {
   "cell_type": "code",
   "execution_count": 2,
   "metadata": {},
   "outputs": [],
   "source": [
    "def getDf(path,W):\n",
    "    o = {}\n",
    "    o['name'] = []\n",
    "    o['image'] = []\n",
    "    for p in os.listdir(path):\n",
    "        for filename in os.listdir(path+\"/\"+p):\n",
    "            o['name'].append(p)\n",
    "            oriimg = plt.imread(path+\"/\"+p+\"/\"+filename)\n",
    "            height, width, depth = oriimg.shape\n",
    "            imgScale = W/width if width>height else W/height\n",
    "            newX,newY = width*imgScale, height*imgScale\n",
    "            newSize = newX if newX>newY else newY\n",
    "            newimg = cv2.resize(oriimg,(int(newSize),int(newSize)))\n",
    "            o['image'].append(newimg.tolist())\n",
    "    return o"
   ]
  },
  {
   "cell_type": "code",
   "execution_count": 3,
   "metadata": {},
   "outputs": [],
   "source": [
    "def imgResize(url,W):\n",
    "    context = ssl._create_unverified_context()\n",
    "    resp =  urllib.request.urlopen(url, context=context)\n",
    "    oriimg = np.asarray(bytearray(resp.read()), dtype=\"uint8\")\n",
    "    oriimg = cv2.imdecode(oriimg, cv2.IMREAD_ANYCOLOR)\n",
    "    oriimg = cv2.cvtColor(oriimg,cv2.COLOR_BGR2RGB)\n",
    "    height, width, depth = oriimg.shape\n",
    "    imgScale = W/width if width>height else W/height\n",
    "    newX,newY = width*imgScale, height*imgScale\n",
    "    newSize = newX if newX>newY else newY\n",
    "    newimg = cv2.resize(oriimg,(int(newSize),int(newSize)))\n",
    "    return np.array(newimg).reshape(-1,int(newSize),int(newSize),3)"
   ]
  },
  {
   "cell_type": "code",
   "execution_count": 4,
   "metadata": {},
   "outputs": [],
   "source": [
    "def getName(m,n,img):\n",
    "    return pd.Categorical(n).categories[np.argmax(m.predict(img))]"
   ]
  },
  {
   "cell_type": "code",
   "execution_count": 8,
   "metadata": {},
   "outputs": [],
   "source": [
    "model = load_model('./after_hackerthon_ss.model')"
   ]
  },
  {
   "cell_type": "code",
   "execution_count": 9,
   "metadata": {},
   "outputs": [],
   "source": [
    "data = pd.DataFrame.from_dict(getDf('./data',250.))"
   ]
  },
  {
   "cell_type": "code",
   "execution_count": 14,
   "metadata": {},
   "outputs": [],
   "source": [
    "image = imgResize(\"https://diag.tactri.gov.tw/public/UploadDgnsResultImage/6519/2d8e4ed2-833c-433c-ac7d-3401af085a78.jpg\",250.)"
   ]
  },
  {
   "cell_type": "code",
   "execution_count": 15,
   "metadata": {},
   "outputs": [
    {
     "data": {
      "text/plain": [
       "'Rhizoctonia sp.引起之立枯病'"
      ]
     },
     "execution_count": 15,
     "metadata": {},
     "output_type": "execute_result"
    }
   ],
   "source": [
    "getName(model,data['name'],image)"
   ]
  },
  {
   "cell_type": "code",
   "execution_count": null,
   "metadata": {},
   "outputs": [],
   "source": []
  }
 ],
 "metadata": {
  "kernelspec": {
   "display_name": "Python (tf)",
   "language": "python",
   "name": "tf"
  },
  "language_info": {
   "codemirror_mode": {
    "name": "ipython",
    "version": 3
   },
   "file_extension": ".py",
   "mimetype": "text/x-python",
   "name": "python",
   "nbconvert_exporter": "python",
   "pygments_lexer": "ipython3",
   "version": "3.6.6"
  }
 },
 "nbformat": 4,
 "nbformat_minor": 2
}
