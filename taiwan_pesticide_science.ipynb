{
 "cells": [
  {
   "cell_type": "code",
   "execution_count": 4,
   "metadata": {},
   "outputs": [],
   "source": [
    "from selenium import webdriver\n",
    "from selenium.webdriver.common.keys import Keys\n",
    "import numpy as np\n",
    "import pandas as pd\n",
    "import matplotlib.pyplot as plt\n",
    "from skimage.io import imread as skioread\n",
    "from skimage import io as skio\n",
    "%matplotlib inline"
   ]
  },
  {
   "cell_type": "code",
   "execution_count": 169,
   "metadata": {},
   "outputs": [],
   "source": [
    "driver = webdriver.Chrome('C:\\\\Users\\\\cabal\\\\Desktop\\\\webdrivers\\\\chromedriver')"
   ]
  },
  {
   "cell_type": "code",
   "execution_count": 170,
   "metadata": {},
   "outputs": [],
   "source": [
    "\n",
    "## 菊花\n",
    "a = 'https://diag.tactri.gov.tw/Search/CropListPrevent?CropSelcId=2600&Page=1&Row=100'\n",
    "\n",
    "## 非洲菊\n",
    "b = 'https://diag.tactri.gov.tw/Search/CropListPrevent?CropSelcId=2580&Page=1&Row=100'\n"
   ]
  },
  {
   "cell_type": "code",
   "execution_count": 171,
   "metadata": {},
   "outputs": [],
   "source": [
    "driver.get(b)"
   ]
  },
  {
   "cell_type": "code",
   "execution_count": 83,
   "metadata": {},
   "outputs": [],
   "source": [
    "def getCsv(a,sp='./',sn='default'):\n",
    "    o = {}\n",
    "    o['name'] = []\n",
    "    o['image'] = []\n",
    "    o['url'] = []\n",
    "    for tr in driver.find_elements_by_tag_name('tr'):\n",
    "        tds = tr.find_elements_by_tag_name('td')\n",
    "        if len(tds) > 0:\n",
    "            imgs = tds[3].find_elements_by_tag_name('img')\n",
    "            name = tds[2]\n",
    "            url = tds[2].find_element_by_tag_name('a')\n",
    "            if name!='' and len(imgs) > 0:\n",
    "                for i in imgs:\n",
    "                    o['name'].append(name.text)\n",
    "                    o['image'].append(i.get_property('src'))\n",
    "                    o['url'].append(url.get_property('href'))\n",
    "    data = pd.DataFrame.from_dict(o)\n",
    "    data.to_csv(sp+sn+\"csv\",index=False)\n",
    "    return o"
   ]
  },
  {
   "cell_type": "code",
   "execution_count": 79,
   "metadata": {},
   "outputs": [],
   "source": [
    "def showImage(url):\n",
    "    from skimage import io\n",
    "    io.imshow(io.imread(url))\n",
    "    io.show()"
   ]
  },
  {
   "cell_type": "code",
   "execution_count": 80,
   "metadata": {},
   "outputs": [],
   "source": [
    "# showImage(\"http://www.w3schools.com/css/trolltunga.jpg\")"
   ]
  },
  {
   "cell_type": "code",
   "execution_count": 172,
   "metadata": {},
   "outputs": [
    {
     "data": {
      "text/plain": [
       "{'name': ['疫病',\n",
       "  '疫病',\n",
       "  '疫病',\n",
       "  '研判非生物因子所引起',\n",
       "  '研判非生物因子所引起',\n",
       "  '研判非生物因子所引起',\n",
       "  '炭疽病',\n",
       "  '炭疽病',\n",
       "  '炭疽病',\n",
       "  '未發現病原菌和蟲體',\n",
       "  '未發現病原菌和蟲體',\n",
       "  '未發現病原菌和蟲體',\n",
       "  '研判非生物因子所引起',\n",
       "  '研判非生物因子所引起',\n",
       "  '研判非生物因子所引起',\n",
       "  'Rhizopus sp.引起之真菌性病害',\n",
       "  'Rhizopus sp.引起之真菌性病害',\n",
       "  'Rhizopus sp.引起之真菌性病害',\n",
       "  '萎凋病',\n",
       "  '萎凋病',\n",
       "  '萎凋病',\n",
       "  '研判非生物因子所引起',\n",
       "  '研判非生物因子所引起',\n",
       "  '研判非生物因子所引起',\n",
       "  '研判非生物因子所引起',\n",
       "  '研判非生物因子所引起',\n",
       "  '研判非生物因子所引起',\n",
       "  '細菌性葉斑病',\n",
       "  '細菌性葉斑病',\n",
       "  '細菌性葉斑病',\n",
       "  '研判非生物因子所引起',\n",
       "  '研判非生物因子所引起',\n",
       "  '研判非生物因子所引起',\n",
       "  '細菌性葉斑病',\n",
       "  '細菌性葉斑病',\n",
       "  '細菌性葉斑病',\n",
       "  '非洲菊斑潛蠅',\n",
       "  '非洲菊斑潛蠅',\n",
       "  '非洲菊斑潛蠅',\n",
       "  '',\n",
       "  '',\n",
       "  '',\n",
       "  '鐮孢菌引起之萎凋病',\n",
       "  '鐮孢菌引起之萎凋病',\n",
       "  '鐮孢菌引起之萎凋病',\n",
       "  '鐮孢菌引起之萎凋病',\n",
       "  '鐮孢菌引起之萎凋病',\n",
       "  '鐮孢菌引起之萎凋病',\n",
       "  '立枯病',\n",
       "  '立枯病',\n",
       "  '立枯病',\n",
       "  '立枯病',\n",
       "  '立枯病',\n",
       "  '立枯病',\n",
       "  '立枯病',\n",
       "  '立枯病',\n",
       "  '立枯病',\n",
       "  '立枯病',\n",
       "  '立枯病',\n",
       "  '立枯病',\n",
       "  '立枯病',\n",
       "  '立枯病',\n",
       "  '立枯病',\n",
       "  '細菌性葉斑病',\n",
       "  '細菌性葉斑病',\n",
       "  '細菌性葉斑病',\n",
       "  '細菌性葉斑病',\n",
       "  '細菌性葉斑病',\n",
       "  '細菌性葉斑病',\n",
       "  '研判與栽培管理有關',\n",
       "  '研判與栽培管理有關',\n",
       "  '研判與栽培管理有關',\n",
       "  '萎凋病',\n",
       "  '萎凋病',\n",
       "  '萎凋病',\n",
       "  '鐮孢菌引起之萎凋病',\n",
       "  '鐮孢菌引起之萎凋病',\n",
       "  '鐮孢菌引起之萎凋病',\n",
       "  '炭疽病',\n",
       "  '炭疽病',\n",
       "  '炭疽病',\n",
       "  '炭疽病',\n",
       "  '炭疽病',\n",
       "  '炭疽病',\n",
       "  '炭疽病',\n",
       "  '炭疽病',\n",
       "  '立枯病',\n",
       "  '立枯病',\n",
       "  '立枯病',\n",
       "  '研判非生物因子所引起',\n",
       "  '研判非生物因子所引起',\n",
       "  '研判非生物因子所引起',\n",
       "  '立枯病',\n",
       "  '立枯病',\n",
       "  '立枯病',\n",
       "  '萎凋病',\n",
       "  '萎凋病',\n",
       "  '萎凋病',\n",
       "  '研判與栽培管理有關',\n",
       "  '研判與栽培管理有關',\n",
       "  '研判與栽培管理有關',\n",
       "  '研判與栽培管理有關',\n",
       "  '研判與栽培管理有關',\n",
       "  '研判與栽培管理有關',\n",
       "  '研判與栽培管理有關',\n",
       "  '研判與栽培管理有關',\n",
       "  '研判與栽培管理有關',\n",
       "  '研判與栽培管理有關',\n",
       "  '研判與栽培管理有關',\n",
       "  '研判與栽培管理有關',\n",
       "  '不明環境或肥培因子造成',\n",
       "  '不明環境或肥培因子造成',\n",
       "  '不明環境或肥培因子造成',\n",
       "  '研判非生物因子所引起',\n",
       "  '研判非生物因子所引起',\n",
       "  '研判非生物因子所引起',\n",
       "  '立枯病',\n",
       "  '立枯病',\n",
       "  '立枯病',\n",
       "  '鐮孢菌引起之萎凋病',\n",
       "  '鐮孢菌引起之萎凋病',\n",
       "  '鐮孢菌引起之萎凋病',\n",
       "  '猝倒病',\n",
       "  '猝倒病',\n",
       "  '猝倒病',\n",
       "  '疫病',\n",
       "  '疫病',\n",
       "  '疫病',\n",
       "  '研判與植物生理障礙有關',\n",
       "  '研判與植物生理障礙有關',\n",
       "  '研判與植物生理障礙有關',\n",
       "  '白絹病',\n",
       "  '白絹病',\n",
       "  '白絹病',\n",
       "  '萎凋病',\n",
       "  '萎凋病',\n",
       "  '萎凋病',\n",
       "  '疫病',\n",
       "  '疫病',\n",
       "  '研判與栽培管理有關',\n",
       "  '研判與栽培管理有關',\n",
       "  '研判與栽培管理有關',\n",
       "  '研判非生物因子所引起',\n",
       "  '研判非生物因子所引起',\n",
       "  '白粉病',\n",
       "  '白粉病',\n",
       "  '白粉病',\n",
       "  '細菌性病害',\n",
       "  '細菌性病害',\n",
       "  '細菌性病害',\n",
       "  '研判非生物因子所引起',\n",
       "  '研判非生物因子所引起',\n",
       "  '研判非生物因子所引起',\n",
       "  '未發現病原菌和蟲體',\n",
       "  '未發現病原菌和蟲體',\n",
       "  '未發現病原菌和蟲體',\n",
       "  'Phoma sp.引起之真菌性病害',\n",
       "  'Phoma sp.引起之真菌性病害',\n",
       "  'Phoma sp.引起之真菌性病害',\n",
       "  '鐮孢菌引起之萎凋病',\n",
       "  '鐮孢菌引起之萎凋病',\n",
       "  '鐮孢菌引起之萎凋病',\n",
       "  '研判與栽培管理有關',\n",
       "  '研判與栽培管理有關',\n",
       "  '研判與栽培管理有關',\n",
       "  '鐮孢菌引起之萎凋病',\n",
       "  '鐮孢菌引起之萎凋病',\n",
       "  '鐮孢菌引起之萎凋病',\n",
       "  '蠅類',\n",
       "  '蠅類',\n",
       "  '蠅類',\n",
       "  '青枯病',\n",
       "  '青枯病',\n",
       "  '疫病',\n",
       "  '疫病',\n",
       "  '疫病',\n",
       "  '細菌性病害',\n",
       "  '細菌性病害',\n",
       "  '細菌性病害',\n",
       "  '細菌性病害',\n",
       "  '研判不是病蟲危害',\n",
       "  '研判不是病蟲危害',\n",
       "  '研判不是病蟲危害',\n",
       "  '研判不是病蟲危害',\n",
       "  '鐮孢菌引起之萎凋病',\n",
       "  '鐮孢菌引起之萎凋病',\n",
       "  '鐮孢菌引起之萎凋病',\n",
       "  '',\n",
       "  '',\n",
       "  '',\n",
       "  '細菌性病害',\n",
       "  '細菌性病害',\n",
       "  '細菌性病害',\n",
       "  '細菌性病害',\n",
       "  '細菌性病害',\n",
       "  '細菌性病害',\n",
       "  '細菌性病害',\n",
       "  '細菌性病害',\n",
       "  '細菌性病害',\n",
       "  '鐮孢菌引起之萎凋病',\n",
       "  '鐮孢菌引起之萎凋病',\n",
       "  '鐮孢菌引起之萎凋病',\n",
       "  '細菌性病害',\n",
       "  '細菌性病害',\n",
       "  '細菌性病害',\n",
       "  '研判不是病蟲危害',\n",
       "  '研判不是病蟲危害',\n",
       "  '研判不是病蟲危害',\n",
       "  '鐮孢菌引起之萎凋病',\n",
       "  '鐮孢菌引起之萎凋病',\n",
       "  '鐮孢菌引起之萎凋病',\n",
       "  '鐮孢菌引起之萎凋病',\n",
       "  '採樣不正確',\n",
       "  '採樣不正確',\n",
       "  '萎凋病',\n",
       "  '萎凋病',\n",
       "  '萎凋病',\n",
       "  '細菌性病害',\n",
       "  '細菌性病害',\n",
       "  '細菌性病害',\n",
       "  '細菌性病害',\n",
       "  '研判不是病蟲危害',\n",
       "  '研判不是病蟲危害',\n",
       "  '研判不是病蟲危害',\n",
       "  '研判不是病蟲危害',\n",
       "  '炭疽病',\n",
       "  '炭疽病',\n",
       "  '炭疽病',\n",
       "  '病原菌已消滅',\n",
       "  '病原菌已消滅',\n",
       "  '病原菌已消滅',\n",
       "  '研判不是病害',\n",
       "  '研判不是病害',\n",
       "  '研判不是病害',\n",
       "  '疫病',\n",
       "  '疫病',\n",
       "  '疫病',\n",
       "  '研判可能與施藥有關',\n",
       "  '研判可能與施藥有關',\n",
       "  '研判可能與施藥有關',\n",
       "  'Rhizoctonia sp.引起之立枯病',\n",
       "  '鐮孢菌引起之萎凋病',\n",
       "  '鐮孢菌引起之萎凋病',\n",
       "  '疫病',\n",
       "  '疫病',\n",
       "  '疫病',\n",
       "  '鐮孢菌引起之萎凋病',\n",
       "  '鐮孢菌引起之萎凋病',\n",
       "  '鐮孢菌引起之萎凋病',\n",
       "  '薊馬類',\n",
       "  '薊馬類',\n",
       "  '薊馬類'],\n",
       " 'image': ['https://diag.tactri.gov.tw/public/UploadDgnsResultImage/19023/fd6229d7-f72e-4127-95cf-88716658c5f6.jpg',\n",
       "  'https://diag.tactri.gov.tw/public/UploadDgnsResultImage/19023/1567cf82-c3d4-4aff-beea-7a8debcec0a2.jpg',\n",
       "  'https://diag.tactri.gov.tw/public/UploadDgnsResultImage/19023/7c27f766-e664-4ebd-8240-80c06880f8b7.jpg',\n",
       "  'https://diag.tactri.gov.tw/public/UploadDgnsResultImage/14700/230e97b3-53be-499e-b742-a5ef2b57b907.jpg',\n",
       "  'https://diag.tactri.gov.tw/public/UploadDgnsResultImage/14700/87095c14-15ed-4162-ae4f-28be51bb511c.jpg',\n",
       "  'https://diag.tactri.gov.tw/public/UploadDgnsResultImage/14700/856970ba-b37d-44df-9816-719836d082b4.jpg',\n",
       "  'https://diag.tactri.gov.tw/public/UploadDgnsResultImage/14698/5392f012-b0ba-48d2-9949-38f7bba91164.jpg',\n",
       "  'https://diag.tactri.gov.tw/public/UploadDgnsResultImage/14698/1a306214-5176-4f52-bdb2-f52bf174fbaf.jpg',\n",
       "  'https://diag.tactri.gov.tw/public/UploadDgnsResultImage/14698/adb598e6-29f1-4ead-b0fb-f9d3a0e86144.jpg',\n",
       "  'https://diag.tactri.gov.tw/public/UploadDgnsResultImage/7042/79700568-8cdd-4381-a682-37838ef43430.jpg',\n",
       "  'https://diag.tactri.gov.tw/public/UploadDgnsResultImage/7042/f7349707-bc00-4b1b-9da2-9410df474794.jpg',\n",
       "  'https://diag.tactri.gov.tw/public/UploadDgnsResultImage/7042/adbd47fc-ce3b-48cd-9385-c2e416385785.jpg',\n",
       "  'https://diag.tactri.gov.tw/public/UploadDgnsResultImage/7041/0cdf7528-fd8f-404e-9178-23dc79b41db2.jpg',\n",
       "  'https://diag.tactri.gov.tw/public/UploadDgnsResultImage/7041/bcbb2e60-3c73-42f1-beb1-265809cae5df.jpg',\n",
       "  'https://diag.tactri.gov.tw/public/UploadDgnsResultImage/7041/5b47177d-d3c6-499a-8545-49376c61b629.jpg',\n",
       "  'https://diag.tactri.gov.tw/public/UploadDgnsResultImage/6707/b618c588-347f-4948-b447-ea0c1c99fabb.jpg',\n",
       "  'https://diag.tactri.gov.tw/public/UploadDgnsResultImage/6707/575b72f4-ceff-43ee-a892-4ee5e650d994.jpg',\n",
       "  'https://diag.tactri.gov.tw/public/UploadDgnsResultImage/6707/b922feb7-1db4-4e1b-a607-b875f9b4e514.jpg',\n",
       "  'https://diag.tactri.gov.tw/public/UploadDgnsResultImage/6526/a78fcebd-d503-49b1-af91-17e08cdac6f1.jpg',\n",
       "  'https://diag.tactri.gov.tw/public/UploadDgnsResultImage/6526/bde696fc-5b0b-4dd4-8054-ddd101b561d5.jpg',\n",
       "  'https://diag.tactri.gov.tw/public/UploadDgnsResultImage/6526/438a68e7-0a0a-4a14-b091-3ac4eb9baeb7.jpg',\n",
       "  'https://diag.tactri.gov.tw/public/UploadDgnsResultImage/2233/9dcd15b4-cd4f-4efa-a9d4-2275c0f78338.jpg',\n",
       "  'https://diag.tactri.gov.tw/public/UploadDgnsResultImage/2233/a75b4167-ef58-4564-895d-a42ab6d30742.jpg',\n",
       "  'https://diag.tactri.gov.tw/public/UploadDgnsResultImage/2233/09104e41-a398-4db4-81f8-f734b74e76a2.jpg',\n",
       "  'https://diag.tactri.gov.tw/public/UploadDgnsResultImage/18783/fc51c16f-db7a-4af7-bf3c-99cbb7189bfe.jpg',\n",
       "  'https://diag.tactri.gov.tw/public/UploadDgnsResultImage/18783/6e8a25f0-71f8-40a6-854b-efcd0af54695.jpg',\n",
       "  'https://diag.tactri.gov.tw/public/UploadDgnsResultImage/18783/2f203c53-c5bb-4b2c-ac59-b1c57cdd6253.jpg',\n",
       "  'https://diag.tactri.gov.tw/public/UploadDgnsResultImage/18630/c94cc3cb-3d71-42da-8f2d-560510fada6d.jpg',\n",
       "  'https://diag.tactri.gov.tw/public/UploadDgnsResultImage/18630/2dac07b4-f4f9-4bd9-8dc0-379655f971aa.jpg',\n",
       "  'https://diag.tactri.gov.tw/public/UploadDgnsResultImage/18630/e352a8c3-78e1-4c94-b100-3f6fdf4f1691.jpg',\n",
       "  'https://diag.tactri.gov.tw/public/UploadDgnsResultImage/18629/6e24a595-129e-4c4a-807c-6ee0d5cf0bc3.jpg',\n",
       "  'https://diag.tactri.gov.tw/public/UploadDgnsResultImage/18629/302f0e5d-fabf-4681-9fb4-a98ca398d9cb.jpg',\n",
       "  'https://diag.tactri.gov.tw/public/UploadDgnsResultImage/18629/76a3fa62-faa1-469f-aa52-22b06910885c.jpg',\n",
       "  'https://diag.tactri.gov.tw/public/UploadDgnsResultImage/18628/72c9257c-d355-4f36-80f6-269cefa98a02.jpg',\n",
       "  'https://diag.tactri.gov.tw/public/UploadDgnsResultImage/18628/d7fae252-901a-4459-b4fd-0c1a34459633.jpg',\n",
       "  'https://diag.tactri.gov.tw/public/UploadDgnsResultImage/18628/d02f8dce-3bb5-413c-87bb-4e1a9422e169.jpg',\n",
       "  'https://diag.tactri.gov.tw/public/UploadDgnsResultImage/18835/5174cd03-75b5-4a79-b860-f76032e7ac1d.jpg',\n",
       "  'https://diag.tactri.gov.tw/public/UploadDgnsResultImage/18835/dd1611ba-68da-4297-8939-573d5f905469.jpg',\n",
       "  'https://diag.tactri.gov.tw/public/UploadDgnsResultImage/18835/095acb4a-29f6-4c85-a2b3-dece550e86c9.jpg',\n",
       "  'https://diag.tactri.gov.tw/public/UploadDgnsResultImage/18827/56176d8c-488f-423d-ad60-439601e6b5cd.jpg',\n",
       "  'https://diag.tactri.gov.tw/public/UploadDgnsResultImage/18827/f26cc2ce-9d59-4689-9995-254ce67d5bfe.jpg',\n",
       "  'https://diag.tactri.gov.tw/public/UploadDgnsResultImage/18827/8ba1e4e4-2abe-4bfb-bde8-81514035583c.jpg',\n",
       "  'https://diag.tactri.gov.tw/public/UploadDgnsResultImage/18488/c7f20fe0-271c-4f0c-818c-75a971b3059f.jpg',\n",
       "  'https://diag.tactri.gov.tw/public/UploadDgnsResultImage/18488/425a1c1e-8077-4c7a-a6ae-c61653785880.jpg',\n",
       "  'https://diag.tactri.gov.tw/public/UploadDgnsResultImage/18488/95e5f381-bc2d-4860-8271-ada4f08d8a58.jpg',\n",
       "  'https://diag.tactri.gov.tw/public/UploadDgnsResultImage/18487/15fd0cb5-71f3-4084-beae-1b8cec5c0df1.jpg',\n",
       "  'https://diag.tactri.gov.tw/public/UploadDgnsResultImage/18487/5c54dea9-1a21-428c-85bd-13c3745a7c33.jpg',\n",
       "  'https://diag.tactri.gov.tw/public/UploadDgnsResultImage/18487/dc31a46a-e7ad-4e27-a273-b8e5932d3e67.jpg',\n",
       "  'https://diag.tactri.gov.tw/public/UploadDgnsResultImage/7035/4045d368-99c0-49fc-98f9-fa59f41ad7f7.jpg',\n",
       "  'https://diag.tactri.gov.tw/public/UploadDgnsResultImage/7035/873ed652-9a42-4feb-8231-734bedb6a699.jpg',\n",
       "  'https://diag.tactri.gov.tw/public/UploadDgnsResultImage/7035/0849469c-de2b-4569-958e-41c68c51e072.jpg',\n",
       "  'https://diag.tactri.gov.tw/public/UploadDgnsResultImage/7034/d2276cc7-2a98-4ad9-870c-ac0be957ea42.jpg',\n",
       "  'https://diag.tactri.gov.tw/public/UploadDgnsResultImage/7034/d06d5f54-6d1c-4893-be17-00ca37ed2956.jpg',\n",
       "  'https://diag.tactri.gov.tw/public/UploadDgnsResultImage/7034/0bd0f6aa-547f-4587-905b-22a1ecb490bd.jpg',\n",
       "  'https://diag.tactri.gov.tw/public/UploadDgnsResultImage/7033/57d3c64d-e981-42fc-879a-820dedd5675c.jpg',\n",
       "  'https://diag.tactri.gov.tw/public/UploadDgnsResultImage/7033/e043e4d4-ced5-41f4-a886-1a010ef7cb96.jpg',\n",
       "  'https://diag.tactri.gov.tw/public/UploadDgnsResultImage/7033/95806aa3-74a8-46c4-927b-809d4ebba243.jpg',\n",
       "  'https://diag.tactri.gov.tw/public/UploadDgnsResultImage/7031/a8efc951-d843-4ec5-b568-95ff43c6354e.jpg',\n",
       "  'https://diag.tactri.gov.tw/public/UploadDgnsResultImage/7031/b4ce8a82-76e2-4fc2-9f8c-026cdb28bf34.jpg',\n",
       "  'https://diag.tactri.gov.tw/public/UploadDgnsResultImage/7031/74da64b4-fb45-4224-a296-d2d52a9783c3.jpg',\n",
       "  'https://diag.tactri.gov.tw/public/UploadDgnsResultImage/6996/0e07cbbb-2375-4795-b00f-4ae86a1e82b8.jpg',\n",
       "  'https://diag.tactri.gov.tw/public/UploadDgnsResultImage/6996/65226f41-e90c-4ed8-896c-4560901a8f12.jpg',\n",
       "  'https://diag.tactri.gov.tw/public/UploadDgnsResultImage/6996/c3211807-f29e-4730-9b88-04bd1f06d886.jpg',\n",
       "  'https://diag.tactri.gov.tw/public/UploadDgnsResultImage/6928/0692de31-539a-4c7c-b948-655c779bb544.jpg',\n",
       "  'https://diag.tactri.gov.tw/public/UploadDgnsResultImage/6928/8078b177-8595-430c-8621-1946e8b9a0ca.jpg',\n",
       "  'https://diag.tactri.gov.tw/public/UploadDgnsResultImage/6928/b13da9d0-012d-48df-bc79-8b25c9556a87.jpg',\n",
       "  'https://diag.tactri.gov.tw/public/UploadDgnsResultImage/6927/0f04f201-a637-4f4f-b3aa-95449192f119.jpg',\n",
       "  'https://diag.tactri.gov.tw/public/UploadDgnsResultImage/6927/988fb06a-bd38-48f8-9fba-ee5c23e37641.jpg',\n",
       "  'https://diag.tactri.gov.tw/public/UploadDgnsResultImage/6927/c2c62c01-0cf8-4a7d-b341-47560cb780fa.jpg',\n",
       "  'https://diag.tactri.gov.tw/public/UploadDgnsResultImage/2210/0d35782b-cd98-4b86-944e-c6fd59bc9c53.jpg',\n",
       "  'https://diag.tactri.gov.tw/public/UploadDgnsResultImage/2210/ed4d4012-c7bc-48c7-aade-9e8e416cd884.jpg',\n",
       "  'https://diag.tactri.gov.tw/public/UploadDgnsResultImage/2210/9a52f4f2-25b7-49f4-9d7c-fea3e8338df6.jpg',\n",
       "  'https://diag.tactri.gov.tw/public/UploadDgnsResultImage/2129/6f8011b7-7db6-49df-a21e-3af418990421.jpg',\n",
       "  'https://diag.tactri.gov.tw/public/UploadDgnsResultImage/2129/f281569e-0fd5-4919-a37f-c8f88011a492.jpg',\n",
       "  'https://diag.tactri.gov.tw/public/UploadDgnsResultImage/2129/cb9958c0-78ba-49e6-846e-bdc3d738cd66.jpg',\n",
       "  'https://diag.tactri.gov.tw/public/UploadDgnsResultImage/2104/ddb3ed46-eb98-409f-8545-fdd1b4879f6c.jpg',\n",
       "  'https://diag.tactri.gov.tw/public/UploadDgnsResultImage/2104/ed3613a2-8ba0-451b-b97a-b2126792ea13.jpg',\n",
       "  'https://diag.tactri.gov.tw/public/UploadDgnsResultImage/2104/fcf8daaa-25b7-461d-9630-2d2c821ac807.jpg',\n",
       "  'https://diag.tactri.gov.tw/public/UploadDgnsResultImage/2095/edfc41d8-0f6b-4a42-9f52-21a5a32410e4.jpg',\n",
       "  'https://diag.tactri.gov.tw/public/UploadDgnsResultImage/2095/5dedaee6-1cca-4131-8357-3277584c1400.jpg',\n",
       "  'https://diag.tactri.gov.tw/public/UploadDgnsResultImage/2094/b97addc2-33bd-483f-86a4-62d5c08865ec.jpg',\n",
       "  'https://diag.tactri.gov.tw/public/UploadDgnsResultImage/2094/a2e19832-3362-4452-85f7-e384b40f6667.jpg',\n",
       "  'https://diag.tactri.gov.tw/public/UploadDgnsResultImage/2094/c96a3ce4-9e90-44c8-9c00-51f93e8846c9.jpg',\n",
       "  'https://diag.tactri.gov.tw/public/UploadDgnsResultImage/2092/19b60847-9478-4072-81fd-3282f9059120.jpg',\n",
       "  'https://diag.tactri.gov.tw/public/UploadDgnsResultImage/2092/f175e53b-416c-42c6-9414-3195cf47d471.jpg',\n",
       "  'https://diag.tactri.gov.tw/public/UploadDgnsResultImage/2092/da13f37b-c93f-40c1-9caf-d9c92b07fdcb.jpg',\n",
       "  'https://diag.tactri.gov.tw/public/UploadDgnsResultImage/1883/23448fbb-b3ea-4f41-b49a-18fa5f86787d.jpg',\n",
       "  'https://diag.tactri.gov.tw/public/UploadDgnsResultImage/1883/fc0bbc1a-ad62-43aa-a956-87a060a21a7c.jpg',\n",
       "  'https://diag.tactri.gov.tw/public/UploadDgnsResultImage/1883/afa96736-a58b-49c9-80a0-ba1118804daf.jpg',\n",
       "  'https://diag.tactri.gov.tw/public/UploadDgnsResultImage/1843/d28343bf-7b25-43c4-a2df-4aba0e48b61c.jpg',\n",
       "  'https://diag.tactri.gov.tw/public/UploadDgnsResultImage/1843/a94dc31a-ce75-4653-8708-86fcb1d88233.jpg',\n",
       "  'https://diag.tactri.gov.tw/public/UploadDgnsResultImage/1843/785ad2f3-eb40-46b0-9afa-4fdc5e10e192.jpg',\n",
       "  'https://diag.tactri.gov.tw/public/UploadDgnsResultImage/1812/af0998d8-331a-481b-bb86-17022d995205.jpg',\n",
       "  'https://diag.tactri.gov.tw/public/UploadDgnsResultImage/1812/b5c21602-c623-4d5d-b9ff-9a7e17532251.jpg',\n",
       "  'https://diag.tactri.gov.tw/public/UploadDgnsResultImage/1812/35cfc85c-aa50-4f53-ae38-6ecc037b2314.jpg',\n",
       "  'https://diag.tactri.gov.tw/public/UploadDgnsResultImage/1792/d7e6d2a8-892a-4845-8fa9-0c7d1e6954f6.jpg',\n",
       "  'https://diag.tactri.gov.tw/public/UploadDgnsResultImage/1792/bc3dca83-d33d-4556-8696-f76e406e82d1.jpg',\n",
       "  'https://diag.tactri.gov.tw/public/UploadDgnsResultImage/1792/d5c918e1-3837-4d31-a64e-f1d14a15b01b.jpg',\n",
       "  'https://diag.tactri.gov.tw/public/UploadDgnsResultImage/1635/2df8d921-c85b-4b97-b7d9-440656efcf0f.jpg',\n",
       "  'https://diag.tactri.gov.tw/public/UploadDgnsResultImage/1635/4a1b57cb-9fe2-40c9-bbd4-dda0baf66565.jpg',\n",
       "  'https://diag.tactri.gov.tw/public/UploadDgnsResultImage/1635/11613824-b5c2-4f1a-9f43-d2dfe3bd0ae8.jpg',\n",
       "  'https://diag.tactri.gov.tw/public/UploadDgnsResultImage/1634/69e2c747-5603-4039-a443-29038f8257c2.jpg',\n",
       "  'https://diag.tactri.gov.tw/public/UploadDgnsResultImage/1634/46954cc3-79f3-4e70-a670-d59842100da7.jpg',\n",
       "  'https://diag.tactri.gov.tw/public/UploadDgnsResultImage/1634/ae06153e-a8d5-478b-b187-86dc88a8c35f.jpg',\n",
       "  'https://diag.tactri.gov.tw/public/UploadDgnsResultImage/1633/07977a6f-cb75-49b7-9b1d-7914dbe4751d.jpg',\n",
       "  'https://diag.tactri.gov.tw/public/UploadDgnsResultImage/1633/825f489c-9118-4843-9679-8947a4e7b70f.jpg',\n",
       "  'https://diag.tactri.gov.tw/public/UploadDgnsResultImage/1633/7dbe7a8e-5686-4090-a82f-c9c2e71b3c95.jpg',\n",
       "  'https://diag.tactri.gov.tw/public/UploadDgnsResultImage/1632/69d3a23d-99af-47ea-aa82-989e834315f9.jpg',\n",
       "  'https://diag.tactri.gov.tw/public/UploadDgnsResultImage/1632/8c0e798e-c7d7-4e11-b6b9-54d55366045f.jpg',\n",
       "  'https://diag.tactri.gov.tw/public/UploadDgnsResultImage/1632/b0e14d31-bb81-4cd8-abde-4ca3d1455fbb.jpg',\n",
       "  'https://diag.tactri.gov.tw/public/UploadDgnsResultImage/1609/32f91552-e118-4d3f-bc99-8b94cf781cdd.jpg',\n",
       "  'https://diag.tactri.gov.tw/public/UploadDgnsResultImage/1609/2b5717dd-0694-4b93-8d7e-a742c153a1aa.jpg',\n",
       "  'https://diag.tactri.gov.tw/public/UploadDgnsResultImage/1609/70aa9654-1dcf-4303-abee-d8a02d8d585a.jpg',\n",
       "  'https://diag.tactri.gov.tw/public/UploadDgnsResultImage/2934/36a04866-464e-4038-b47e-a3240dd6b6db.jpg',\n",
       "  'https://diag.tactri.gov.tw/public/UploadDgnsResultImage/2934/ec57da0b-12fc-4f29-b5d8-9f034aebe98b.jpg',\n",
       "  'https://diag.tactri.gov.tw/public/UploadDgnsResultImage/2934/82a18926-4c2c-4f2b-bbf3-e170953522c1.jpg',\n",
       "  'https://diag.tactri.gov.tw/public/UploadDgnsResultImage/2566/a7431e55-cc09-47e1-8a6e-a16c769d1e81.jpg',\n",
       "  'https://diag.tactri.gov.tw/public/UploadDgnsResultImage/2566/f4dacdb5-d245-4685-9f1e-3b1e07a89490.jpg',\n",
       "  'https://diag.tactri.gov.tw/public/UploadDgnsResultImage/2566/6e839e36-8ce6-49fb-a564-5ecc98dd23fe.jpg',\n",
       "  'https://diag.tactri.gov.tw/public/UploadDgnsResultImage/2540/40b399a8-96d4-47db-a13f-6ed549beaba8.jpg',\n",
       "  'https://diag.tactri.gov.tw/public/UploadDgnsResultImage/2540/86cff6fd-d87e-41e4-aa44-f4122b9b9d62.jpg',\n",
       "  'https://diag.tactri.gov.tw/public/UploadDgnsResultImage/2540/bb59ead4-a18a-453a-8c6e-d205611a7e5a.jpg',\n",
       "  'https://diag.tactri.gov.tw/public/UploadDgnsResultImage/2539/ec609272-55e0-45da-b4fc-5a4544c1eecf.jpg',\n",
       "  'https://diag.tactri.gov.tw/public/UploadDgnsResultImage/2539/62e81b31-5ffc-452c-a3a0-3d75825f1869.jpg',\n",
       "  'https://diag.tactri.gov.tw/public/UploadDgnsResultImage/2539/2a87a619-87d4-48c4-9874-77e8cdecfe7f.jpg',\n",
       "  'https://diag.tactri.gov.tw/public/UploadDgnsResultImage/2513/1c4cb957-fe6f-4da9-a8b9-84dd1f5dc79f.jpg',\n",
       "  'https://diag.tactri.gov.tw/public/UploadDgnsResultImage/2513/e31069dc-1fae-4fb9-acc0-c1f4132a5f59.jpg',\n",
       "  'https://diag.tactri.gov.tw/public/UploadDgnsResultImage/2513/a6f0ae53-f49f-4723-9b1c-21095b11f234.jpg',\n",
       "  'https://diag.tactri.gov.tw/public/UploadDgnsResultImage/3714/76eba016-1ecb-48e1-b7a6-7b1e8ea80272.jpg',\n",
       "  'https://diag.tactri.gov.tw/public/UploadDgnsResultImage/3714/bd7626f7-b8d9-48a2-971f-1935533c9ea0.jpg',\n",
       "  'https://diag.tactri.gov.tw/public/UploadDgnsResultImage/3714/0015c42f-dbcb-4437-ae96-12ef85b7cb44.jpg',\n",
       "  'https://diag.tactri.gov.tw/public/UploadDgnsResultImage/3706/8d139131-c80c-4505-87b4-a717c23f105a.jpg',\n",
       "  'https://diag.tactri.gov.tw/public/UploadDgnsResultImage/3706/53f480ec-05c9-43f9-af69-f4d8a08349ca.jpg',\n",
       "  'https://diag.tactri.gov.tw/public/UploadDgnsResultImage/3706/dc9a0dc2-7c84-4e86-9afe-2d3b412f2c2f.jpg',\n",
       "  'https://diag.tactri.gov.tw/public/UploadDgnsResultImage/3541/e8d0dfd2-29ad-49ad-aae1-70a4d0d37ab1.jpg',\n",
       "  'https://diag.tactri.gov.tw/public/UploadDgnsResultImage/3541/d91bdfe2-e54c-48d8-bbe5-4962f2cc2991.jpg',\n",
       "  'https://diag.tactri.gov.tw/public/UploadDgnsResultImage/3541/e638939b-e772-43b5-b6f4-03cb47a0a51c.jpg',\n",
       "  'https://diag.tactri.gov.tw/public/UploadDgnsResultImage/3540/d2070f2d-77f2-46c3-877b-527a8550328b.jpg',\n",
       "  'https://diag.tactri.gov.tw/public/UploadDgnsResultImage/3540/deaba7a2-6d13-4407-9d06-65c92f3504d1.jpg',\n",
       "  'https://diag.tactri.gov.tw/public/UploadDgnsResultImage/3539/2fb052c9-f4ec-4f3f-b35c-77ea0335870e.jpg',\n",
       "  'https://diag.tactri.gov.tw/public/UploadDgnsResultImage/3539/11d56780-6556-4956-a3c6-230bec4b44c4.jpg',\n",
       "  'https://diag.tactri.gov.tw/public/UploadDgnsResultImage/3539/830936db-d4f0-45c4-9300-d623b4fb3f22.jpg',\n",
       "  'https://diag.tactri.gov.tw/public/UploadDgnsResultImage/3468/5270e401-0312-432f-96fe-8e612bf8018c.jpg',\n",
       "  'https://diag.tactri.gov.tw/public/UploadDgnsResultImage/3468/5e605e5a-b312-4ad8-86c5-906d2c343b58.jpg',\n",
       "  'https://diag.tactri.gov.tw/public/UploadDgnsResultImage/4975/1c461264-f5ec-4614-b872-c7f4e59ca32f.jpg',\n",
       "  'https://diag.tactri.gov.tw/public/UploadDgnsResultImage/4975/cfc51862-7e6b-46e5-a43d-6148aa6cbdb9.jpg',\n",
       "  'https://diag.tactri.gov.tw/public/UploadDgnsResultImage/4975/19cbc9b9-b650-4bd5-b89d-496503db022c.jpg',\n",
       "  'https://diag.tactri.gov.tw/public/UploadDgnsResultImage/3974/ede5d1fb-9d07-409e-9479-d6acb777410f.jpg',\n",
       "  'https://diag.tactri.gov.tw/public/UploadDgnsResultImage/3974/29103a1f-5d76-47c2-b7fb-b5638ad8055c.jpg',\n",
       "  'https://diag.tactri.gov.tw/public/UploadDgnsResultImage/3974/f8d9214a-0a72-49a0-a3c6-5fb8cfce2f26.jpg',\n",
       "  'https://diag.tactri.gov.tw/public/UploadDgnsResultImage/5410/60ac2e16-5d8b-43ea-9484-869ad374cf96.jpg',\n",
       "  'https://diag.tactri.gov.tw/public/UploadDgnsResultImage/5410/f679851c-e587-4b89-83a8-7434855ed807.jpg',\n",
       "  'https://diag.tactri.gov.tw/public/UploadDgnsResultImage/5410/5c45e2f8-9583-4c60-a854-7fbedd7c77d7.jpg',\n",
       "  'https://diag.tactri.gov.tw/public/UploadDgnsResultImage/6340/d2de58e0-a8c2-45b6-8641-490a0e4bdfb8.jpg',\n",
       "  'https://diag.tactri.gov.tw/public/UploadDgnsResultImage/6340/b6ad7ed8-5447-4163-aae5-a71dee40341b.jpg',\n",
       "  'https://diag.tactri.gov.tw/public/UploadDgnsResultImage/6340/78a73db1-ad08-4c27-8772-5d282a8c1c06.jpg',\n",
       "  'https://diag.tactri.gov.tw/public/UploadDgnsResultImage/10773/b6656d7b-862d-4596-956f-423396bb77ca.jpg',\n",
       "  'https://diag.tactri.gov.tw/public/UploadDgnsResultImage/10773/2adf5099-6a34-467f-b355-091af90fda1b.jpg',\n",
       "  'https://diag.tactri.gov.tw/public/UploadDgnsResultImage/10773/07d742fd-737f-446e-870d-c2ac3c446950.jpg',\n",
       "  'https://diag.tactri.gov.tw/public/UploadDgnsResultImage/10771/e0b55f11-b46c-481c-b685-92c3fb0f1d6c.jpg',\n",
       "  'https://diag.tactri.gov.tw/public/UploadDgnsResultImage/10771/6d889fc7-41df-46d4-ad6c-ef42842947df.jpg',\n",
       "  'https://diag.tactri.gov.tw/public/UploadDgnsResultImage/10771/d3cebaf1-82c3-4bf7-b67f-c776816a94f4.jpg',\n",
       "  'https://diag.tactri.gov.tw/public/UploadDgnsResultImage/10770/b4692d65-bee2-4e45-b98f-82e5907f39a5.jpg',\n",
       "  'https://diag.tactri.gov.tw/public/UploadDgnsResultImage/10770/44c522aa-dcaf-48ea-9407-12356c749534.jpg',\n",
       "  'https://diag.tactri.gov.tw/public/UploadDgnsResultImage/10770/2e82bb24-e216-47be-923b-8cd47c5b64d9.jpg',\n",
       "  'https://diag.tactri.gov.tw/public/UploadDgnsResultImage/10415/b62cfdad-d24c-496c-89b8-59c499fd8d64.jpg',\n",
       "  'https://diag.tactri.gov.tw/public/UploadDgnsResultImage/10415/aabe765f-cd3e-492a-a3e2-4f2eb850c08e.jpg',\n",
       "  'https://diag.tactri.gov.tw/public/UploadDgnsResultImage/10415/b5fe4204-edea-4091-b58f-a81185414d3e.jpg',\n",
       "  'https://diag.tactri.gov.tw/public/UploadDgnsResultImage/10413/b9c3c2f5-628c-48dc-86cf-b9c55a206857.jpg',\n",
       "  'https://diag.tactri.gov.tw/public/UploadDgnsResultImage/10413/dd008d82-0bf3-43c3-a3fd-4cbbac0273bc.jpg',\n",
       "  'https://diag.tactri.gov.tw/public/UploadDgnsResultImage/10413/31550bfa-100e-4efa-9a1c-6af67b52f9fc.jpg',\n",
       "  'https://diag.tactri.gov.tw/public/UploadDgnsResultImage/9373/1cbef21e-983f-4364-b6ea-9e42d9cd7e02.jpg',\n",
       "  'https://diag.tactri.gov.tw/public/UploadDgnsResultImage/9373/f450ed1a-445e-4f08-ad2a-6f680e5f71e2.jpg',\n",
       "  'https://diag.tactri.gov.tw/public/UploadDgnsResultImage/8777/8f90aa5c-9998-4d0a-8447-7434ec6e2a06.jpg',\n",
       "  'https://diag.tactri.gov.tw/public/UploadDgnsResultImage/8777/d880d2d7-fa22-4403-aace-1deb033da277.jpg',\n",
       "  'https://diag.tactri.gov.tw/public/UploadDgnsResultImage/8777/c69e56ee-ba36-4fdf-96d2-94562cd5eee7.jpg',\n",
       "  'https://diag.tactri.gov.tw/public/UploadDgnsResultImage/16499/c48d4e85-90cf-47ae-80ed-1ea51d110f99.jpg',\n",
       "  'https://diag.tactri.gov.tw/public/UploadDgnsResultImage/16499/adf92e97-44fe-46e3-85ca-a12d07ad1ede.jpg',\n",
       "  'https://diag.tactri.gov.tw/public/UploadDgnsResultImage/16499/8f06786c-9d86-4f1a-8371-b52c399bdce4.jpg',\n",
       "  'https://diag.tactri.gov.tw/public/UploadDgnsResultImage/16499/f66cc0b5-b2dd-4ffe-a5a6-7ba3ef3fe07b.jpg',\n",
       "  'https://diag.tactri.gov.tw/public/UploadDgnsResultImage/16071/b361712c-7749-4ae8-a605-c7024b0a89ed.jpg',\n",
       "  'https://diag.tactri.gov.tw/public/UploadDgnsResultImage/16071/4b161ea8-4cc4-4e30-bd66-716b7d568b41.jpg',\n",
       "  'https://diag.tactri.gov.tw/public/UploadDgnsResultImage/16071/bb4f81ea-a383-4d8d-83c4-021027476725.jpg',\n",
       "  'https://diag.tactri.gov.tw/public/UploadDgnsResultImage/16071/6b8da751-b9c5-408e-ac4a-508f6726bf3d.jpg',\n",
       "  'https://diag.tactri.gov.tw/public/UploadDgnsResultImage/13362/2adaf397-d518-4100-89f8-dca35d891fff.jpg',\n",
       "  'https://diag.tactri.gov.tw/public/UploadDgnsResultImage/13362/9f638d6e-fa84-4b11-8b69-fd48f9823aeb.jpg',\n",
       "  'https://diag.tactri.gov.tw/public/UploadDgnsResultImage/13362/05e875f0-eed6-4cb6-b25a-ec54c1289636.jpg',\n",
       "  'https://diag.tactri.gov.tw/public/UploadDgnsResultImage/13360/5107b756-2682-4dcc-9a82-2b33e7552634.jpg',\n",
       "  'https://diag.tactri.gov.tw/public/UploadDgnsResultImage/13360/3fd75f46-765c-4a41-aa95-500b069e6cc0.jpg',\n",
       "  'https://diag.tactri.gov.tw/public/UploadDgnsResultImage/13360/20b77c2b-c17a-4523-8ed4-b8d1ce6bf32d.jpg',\n",
       "  'https://diag.tactri.gov.tw/public/UploadDgnsResultImage/11698/1a967ac1-58a1-4727-a1e4-ec68f272d9e7.jpg',\n",
       "  'https://diag.tactri.gov.tw/public/UploadDgnsResultImage/11698/929459d2-8bf7-4cf4-8447-2cb72d5b620c.jpg',\n",
       "  'https://diag.tactri.gov.tw/public/UploadDgnsResultImage/11698/c118cdbd-0514-461f-9569-5f82f65afa49.jpg',\n",
       "  'https://diag.tactri.gov.tw/public/UploadDgnsResultImage/11697/330d409b-e08a-445d-94f8-6332bbaf219a.jpg',\n",
       "  'https://diag.tactri.gov.tw/public/UploadDgnsResultImage/11697/8d4e1955-334e-421f-94d3-32846747e293.jpg',\n",
       "  'https://diag.tactri.gov.tw/public/UploadDgnsResultImage/11697/013e870e-1a66-4fd4-879a-6e8fc1803a78.jpg',\n",
       "  'https://diag.tactri.gov.tw/public/UploadDgnsResultImage/11694/3cffed0b-b203-4507-8ef9-980e5e505a87.jpg',\n",
       "  'https://diag.tactri.gov.tw/public/UploadDgnsResultImage/11694/038bdb91-7b5d-47f1-89f8-aed42501783e.jpg',\n",
       "  'https://diag.tactri.gov.tw/public/UploadDgnsResultImage/11694/9b3c340d-9138-44e2-8d36-1a4d13608198.jpg',\n",
       "  'https://diag.tactri.gov.tw/public/UploadDgnsResultImage/16858/f294dfe6-3ea7-4c15-8b03-45bd17e54939.jpg',\n",
       "  'https://diag.tactri.gov.tw/public/UploadDgnsResultImage/16858/b725848e-83cc-4492-be64-5b66c9236aab.jpg',\n",
       "  'https://diag.tactri.gov.tw/public/UploadDgnsResultImage/16858/e4b487c6-d428-4f57-87a6-3093a871f18f.jpg',\n",
       "  'https://diag.tactri.gov.tw/public/UploadDgnsResultImage/17064/71708256-4f89-4996-a8c1-b9e9e3dc14d3.jpg',\n",
       "  'https://diag.tactri.gov.tw/public/UploadDgnsResultImage/17064/a93a0eda-ec51-4d5e-a8d3-8688106e41e7.jpg',\n",
       "  'https://diag.tactri.gov.tw/public/UploadDgnsResultImage/17064/3053fee3-bea3-4272-8214-0470968ba573.jpg',\n",
       "  'https://diag.tactri.gov.tw/public/UploadDgnsResultImage/17676/3d8ff5c5-72c4-4228-bf4d-142bc8b0e6bc.jpg',\n",
       "  'https://diag.tactri.gov.tw/public/UploadDgnsResultImage/17676/3d7279c7-9df0-4c47-ad60-8b860307a403.jpg',\n",
       "  'https://diag.tactri.gov.tw/public/UploadDgnsResultImage/17676/7bf139eb-494d-4b96-911e-f8fcdf73f155.jpg',\n",
       "  'https://diag.tactri.gov.tw/public/UploadDgnsResultImage/17911/e6df68d5-6411-4792-82fc-5db617f76d8b.jpg',\n",
       "  'https://diag.tactri.gov.tw/public/UploadDgnsResultImage/17911/77a59f5a-03dc-47cb-87e6-ea87dc5bef03.jpg',\n",
       "  'https://diag.tactri.gov.tw/public/UploadDgnsResultImage/17911/34041382-fdfa-446c-a193-7025fc1e5c07.jpg',\n",
       "  'https://diag.tactri.gov.tw/public/UploadDgnsResultImage/17911/393ede7e-0a0f-4e62-99c3-bceda67cdd72.jpg',\n",
       "  'https://diag.tactri.gov.tw/public/UploadDgnsResultImage/18062/a4e4e5b9-47fb-4856-aa53-33c12d4a3604.jpg',\n",
       "  'https://diag.tactri.gov.tw/public/UploadDgnsResultImage/18062/6b81bcaa-9a00-4680-86fd-9ac31180ff8a.jpg',\n",
       "  'https://diag.tactri.gov.tw/public/UploadDgnsResultImage/15191/941dc1c1-ae65-4a91-935d-6719846bff2e.jpg',\n",
       "  'https://diag.tactri.gov.tw/public/UploadDgnsResultImage/15191/04a5d9de-088e-4f42-bfa8-ae962e6878b2.jpg',\n",
       "  'https://diag.tactri.gov.tw/public/UploadDgnsResultImage/15191/11689eeb-3748-4816-9373-fb91b9faea25.jpg',\n",
       "  'https://diag.tactri.gov.tw/public/UploadDgnsResultImage/14401/01284971-9432-4385-9d75-17771a222666.jpg',\n",
       "  'https://diag.tactri.gov.tw/public/UploadDgnsResultImage/14401/a64efb40-512d-411e-b079-4fb507bc3877.jpg',\n",
       "  'https://diag.tactri.gov.tw/public/UploadDgnsResultImage/14401/bd8d03c1-5786-4719-a728-9465fcd794cf.jpg',\n",
       "  'https://diag.tactri.gov.tw/public/UploadDgnsResultImage/14401/0beb86fb-a4e6-47c0-b1a2-a6e6adcb7786.jpg',\n",
       "  'https://diag.tactri.gov.tw/public/UploadDgnsResultImage/15288/493caf88-7162-43c0-a69e-cdfedc16afa5.jpg',\n",
       "  'https://diag.tactri.gov.tw/public/UploadDgnsResultImage/15288/bec3dcf4-dd03-4cae-8477-11992770f41c.jpg',\n",
       "  'https://diag.tactri.gov.tw/public/UploadDgnsResultImage/15288/27afdf4d-1b0d-4c1f-b2f9-6252bb9e03c9.jpg',\n",
       "  'https://diag.tactri.gov.tw/public/UploadDgnsResultImage/15288/f5c7536f-6d4c-4793-8c77-a4ceddd540d1.jpg',\n",
       "  'https://diag.tactri.gov.tw/public/UploadDgnsResultImage/8798/a0bd2fa5-45d7-455c-8c74-d975750f9000.jpg',\n",
       "  'https://diag.tactri.gov.tw/public/UploadDgnsResultImage/8798/ef087890-26e1-4115-9e67-fdf2a8219ebc.jpg',\n",
       "  'https://diag.tactri.gov.tw/public/UploadDgnsResultImage/8798/853042ff-1e43-4562-b014-5c79dd25f0cd.jpg',\n",
       "  'https://diag.tactri.gov.tw/public/UploadDgnsResultImage/8797/42419da0-a2d7-4ca0-8554-9035df0fd3c5.jpg',\n",
       "  'https://diag.tactri.gov.tw/public/UploadDgnsResultImage/8797/2526056e-2115-4804-b90d-37a8f83aaab6.jpg',\n",
       "  'https://diag.tactri.gov.tw/public/UploadDgnsResultImage/8797/cef29334-cffc-4d8a-a50e-6ac39b25b1b1.jpg',\n",
       "  'https://diag.tactri.gov.tw/public/UploadDgnsResultImage/8796/bdf3eb32-af97-4d52-aa8c-a481bb8892a2.jpg',\n",
       "  'https://diag.tactri.gov.tw/public/UploadDgnsResultImage/8796/88fec327-167b-4e83-a7fd-b9b14c681529.jpg',\n",
       "  'https://diag.tactri.gov.tw/public/UploadDgnsResultImage/8796/2a863fd9-1c56-4cf2-9182-7516298fb006.jpg',\n",
       "  'https://diag.tactri.gov.tw/public/UploadDgnsResultImage/10192/eecd2601-33c5-4f65-a04b-b7e9e510becd.jpg',\n",
       "  'https://diag.tactri.gov.tw/public/UploadDgnsResultImage/10192/4adbc59d-0574-4956-bb15-1d58c75af0ac.jpg',\n",
       "  'https://diag.tactri.gov.tw/public/UploadDgnsResultImage/10192/047b3125-5588-4662-a928-60c60ab200e4.jpg',\n",
       "  'https://diag.tactri.gov.tw/public/UploadDgnsResultImage/11449/b3efb958-ee42-4f71-9a94-3c8f31919b80.jpg',\n",
       "  'https://diag.tactri.gov.tw/public/UploadDgnsResultImage/11449/104d7bbd-1117-4b55-9052-697c51ef70dc.jpg',\n",
       "  'https://diag.tactri.gov.tw/public/UploadDgnsResultImage/11449/ff56c2ca-e3b8-44ae-bc65-66ec99237748.jpg',\n",
       "  'https://diag.tactri.gov.tw/public/UploadDgnsResultImage/11357/eed8bb8d-8154-459f-beb9-f6b66591e549.jpg',\n",
       "  'https://diag.tactri.gov.tw/public/UploadDgnsResultImage/11356/3097780a-8f13-48b8-a621-8a96c5b4d641.jpg',\n",
       "  'https://diag.tactri.gov.tw/public/UploadDgnsResultImage/11356/b5c7b19f-5329-4ae4-893f-4c7d49081b6f.jpg',\n",
       "  'https://diag.tactri.gov.tw/public/UploadDgnsResultImage/11355/7c3fb4a0-e0da-4b1f-972f-92cc5066c4c8.jpg',\n",
       "  'https://diag.tactri.gov.tw/public/UploadDgnsResultImage/11354/1bc7ae59-639b-4bd8-9e80-3dcf94f6ba4f.jpg',\n",
       "  'https://diag.tactri.gov.tw/public/UploadDgnsResultImage/11354/991f4d4b-5370-4b7c-bca9-cfe60940b431.jpg',\n",
       "  'https://diag.tactri.gov.tw/public/UploadDgnsResultImage/13200/e098e72c-4045-42a6-aa67-6a38fbb9b764.jpg',\n",
       "  'https://diag.tactri.gov.tw/public/UploadDgnsResultImage/13200/49abeef2-c969-4c97-9f47-ffe624ea97ef.jpg',\n",
       "  'https://diag.tactri.gov.tw/public/UploadDgnsResultImage/13200/b6d056ae-bcb4-47ce-8351-13138fcb3675.jpg',\n",
       "  'https://diag.tactri.gov.tw/public/UploadDgnsResultImage/13199/7582364a-fc84-4e07-9704-a9f5f9c856cf.jpg',\n",
       "  'https://diag.tactri.gov.tw/public/UploadDgnsResultImage/13199/3316323e-695e-46b5-a629-e2eb4edd1149.jpg',\n",
       "  'https://diag.tactri.gov.tw/public/UploadDgnsResultImage/13199/78444e3b-182b-4bc3-a5a5-12fc5b781244.jpg'],\n",
       " 'url': ['https://diag.tactri.gov.tw/Search/CropPrevDetail?ResultId=19023',\n",
       "  'https://diag.tactri.gov.tw/Search/CropPrevDetail?ResultId=19023',\n",
       "  'https://diag.tactri.gov.tw/Search/CropPrevDetail?ResultId=19023',\n",
       "  'https://diag.tactri.gov.tw/Search/CropPrevDetail?ResultId=14700',\n",
       "  'https://diag.tactri.gov.tw/Search/CropPrevDetail?ResultId=14700',\n",
       "  'https://diag.tactri.gov.tw/Search/CropPrevDetail?ResultId=14700',\n",
       "  'https://diag.tactri.gov.tw/Search/CropPrevDetail?ResultId=14698',\n",
       "  'https://diag.tactri.gov.tw/Search/CropPrevDetail?ResultId=14698',\n",
       "  'https://diag.tactri.gov.tw/Search/CropPrevDetail?ResultId=14698',\n",
       "  'https://diag.tactri.gov.tw/Search/CropPrevDetail?ResultId=7042',\n",
       "  'https://diag.tactri.gov.tw/Search/CropPrevDetail?ResultId=7042',\n",
       "  'https://diag.tactri.gov.tw/Search/CropPrevDetail?ResultId=7042',\n",
       "  'https://diag.tactri.gov.tw/Search/CropPrevDetail?ResultId=7041',\n",
       "  'https://diag.tactri.gov.tw/Search/CropPrevDetail?ResultId=7041',\n",
       "  'https://diag.tactri.gov.tw/Search/CropPrevDetail?ResultId=7041',\n",
       "  'https://diag.tactri.gov.tw/Search/CropPrevDetail?ResultId=6707',\n",
       "  'https://diag.tactri.gov.tw/Search/CropPrevDetail?ResultId=6707',\n",
       "  'https://diag.tactri.gov.tw/Search/CropPrevDetail?ResultId=6707',\n",
       "  'https://diag.tactri.gov.tw/Search/CropPrevDetail?ResultId=6526',\n",
       "  'https://diag.tactri.gov.tw/Search/CropPrevDetail?ResultId=6526',\n",
       "  'https://diag.tactri.gov.tw/Search/CropPrevDetail?ResultId=6526',\n",
       "  'https://diag.tactri.gov.tw/Search/CropPrevDetail?ResultId=2233',\n",
       "  'https://diag.tactri.gov.tw/Search/CropPrevDetail?ResultId=2233',\n",
       "  'https://diag.tactri.gov.tw/Search/CropPrevDetail?ResultId=2233',\n",
       "  'https://diag.tactri.gov.tw/Search/CropPrevDetail?ResultId=18783',\n",
       "  'https://diag.tactri.gov.tw/Search/CropPrevDetail?ResultId=18783',\n",
       "  'https://diag.tactri.gov.tw/Search/CropPrevDetail?ResultId=18783',\n",
       "  'https://diag.tactri.gov.tw/Search/CropPrevDetail?ResultId=18630',\n",
       "  'https://diag.tactri.gov.tw/Search/CropPrevDetail?ResultId=18630',\n",
       "  'https://diag.tactri.gov.tw/Search/CropPrevDetail?ResultId=18630',\n",
       "  'https://diag.tactri.gov.tw/Search/CropPrevDetail?ResultId=18629',\n",
       "  'https://diag.tactri.gov.tw/Search/CropPrevDetail?ResultId=18629',\n",
       "  'https://diag.tactri.gov.tw/Search/CropPrevDetail?ResultId=18629',\n",
       "  'https://diag.tactri.gov.tw/Search/CropPrevDetail?ResultId=18628',\n",
       "  'https://diag.tactri.gov.tw/Search/CropPrevDetail?ResultId=18628',\n",
       "  'https://diag.tactri.gov.tw/Search/CropPrevDetail?ResultId=18628',\n",
       "  'https://diag.tactri.gov.tw/Search/CropPrevDetail?ResultId=18835',\n",
       "  'https://diag.tactri.gov.tw/Search/CropPrevDetail?ResultId=18835',\n",
       "  'https://diag.tactri.gov.tw/Search/CropPrevDetail?ResultId=18835',\n",
       "  'https://diag.tactri.gov.tw/Search/CropPrevDetail?ResultId=18827',\n",
       "  'https://diag.tactri.gov.tw/Search/CropPrevDetail?ResultId=18827',\n",
       "  'https://diag.tactri.gov.tw/Search/CropPrevDetail?ResultId=18827',\n",
       "  'https://diag.tactri.gov.tw/Search/CropPrevDetail?ResultId=18488',\n",
       "  'https://diag.tactri.gov.tw/Search/CropPrevDetail?ResultId=18488',\n",
       "  'https://diag.tactri.gov.tw/Search/CropPrevDetail?ResultId=18488',\n",
       "  'https://diag.tactri.gov.tw/Search/CropPrevDetail?ResultId=18487',\n",
       "  'https://diag.tactri.gov.tw/Search/CropPrevDetail?ResultId=18487',\n",
       "  'https://diag.tactri.gov.tw/Search/CropPrevDetail?ResultId=18487',\n",
       "  'https://diag.tactri.gov.tw/Search/CropPrevDetail?ResultId=7035',\n",
       "  'https://diag.tactri.gov.tw/Search/CropPrevDetail?ResultId=7035',\n",
       "  'https://diag.tactri.gov.tw/Search/CropPrevDetail?ResultId=7035',\n",
       "  'https://diag.tactri.gov.tw/Search/CropPrevDetail?ResultId=7034',\n",
       "  'https://diag.tactri.gov.tw/Search/CropPrevDetail?ResultId=7034',\n",
       "  'https://diag.tactri.gov.tw/Search/CropPrevDetail?ResultId=7034',\n",
       "  'https://diag.tactri.gov.tw/Search/CropPrevDetail?ResultId=7033',\n",
       "  'https://diag.tactri.gov.tw/Search/CropPrevDetail?ResultId=7033',\n",
       "  'https://diag.tactri.gov.tw/Search/CropPrevDetail?ResultId=7033',\n",
       "  'https://diag.tactri.gov.tw/Search/CropPrevDetail?ResultId=7031',\n",
       "  'https://diag.tactri.gov.tw/Search/CropPrevDetail?ResultId=7031',\n",
       "  'https://diag.tactri.gov.tw/Search/CropPrevDetail?ResultId=7031',\n",
       "  'https://diag.tactri.gov.tw/Search/CropPrevDetail?ResultId=6996',\n",
       "  'https://diag.tactri.gov.tw/Search/CropPrevDetail?ResultId=6996',\n",
       "  'https://diag.tactri.gov.tw/Search/CropPrevDetail?ResultId=6996',\n",
       "  'https://diag.tactri.gov.tw/Search/CropPrevDetail?ResultId=6928',\n",
       "  'https://diag.tactri.gov.tw/Search/CropPrevDetail?ResultId=6928',\n",
       "  'https://diag.tactri.gov.tw/Search/CropPrevDetail?ResultId=6928',\n",
       "  'https://diag.tactri.gov.tw/Search/CropPrevDetail?ResultId=6927',\n",
       "  'https://diag.tactri.gov.tw/Search/CropPrevDetail?ResultId=6927',\n",
       "  'https://diag.tactri.gov.tw/Search/CropPrevDetail?ResultId=6927',\n",
       "  'https://diag.tactri.gov.tw/Search/CropPrevDetail?ResultId=2210',\n",
       "  'https://diag.tactri.gov.tw/Search/CropPrevDetail?ResultId=2210',\n",
       "  'https://diag.tactri.gov.tw/Search/CropPrevDetail?ResultId=2210',\n",
       "  'https://diag.tactri.gov.tw/Search/CropPrevDetail?ResultId=2129',\n",
       "  'https://diag.tactri.gov.tw/Search/CropPrevDetail?ResultId=2129',\n",
       "  'https://diag.tactri.gov.tw/Search/CropPrevDetail?ResultId=2129',\n",
       "  'https://diag.tactri.gov.tw/Search/CropPrevDetail?ResultId=2104',\n",
       "  'https://diag.tactri.gov.tw/Search/CropPrevDetail?ResultId=2104',\n",
       "  'https://diag.tactri.gov.tw/Search/CropPrevDetail?ResultId=2104',\n",
       "  'https://diag.tactri.gov.tw/Search/CropPrevDetail?ResultId=2095',\n",
       "  'https://diag.tactri.gov.tw/Search/CropPrevDetail?ResultId=2095',\n",
       "  'https://diag.tactri.gov.tw/Search/CropPrevDetail?ResultId=2094',\n",
       "  'https://diag.tactri.gov.tw/Search/CropPrevDetail?ResultId=2094',\n",
       "  'https://diag.tactri.gov.tw/Search/CropPrevDetail?ResultId=2094',\n",
       "  'https://diag.tactri.gov.tw/Search/CropPrevDetail?ResultId=2092',\n",
       "  'https://diag.tactri.gov.tw/Search/CropPrevDetail?ResultId=2092',\n",
       "  'https://diag.tactri.gov.tw/Search/CropPrevDetail?ResultId=2092',\n",
       "  'https://diag.tactri.gov.tw/Search/CropPrevDetail?ResultId=1883',\n",
       "  'https://diag.tactri.gov.tw/Search/CropPrevDetail?ResultId=1883',\n",
       "  'https://diag.tactri.gov.tw/Search/CropPrevDetail?ResultId=1883',\n",
       "  'https://diag.tactri.gov.tw/Search/CropPrevDetail?ResultId=1843',\n",
       "  'https://diag.tactri.gov.tw/Search/CropPrevDetail?ResultId=1843',\n",
       "  'https://diag.tactri.gov.tw/Search/CropPrevDetail?ResultId=1843',\n",
       "  'https://diag.tactri.gov.tw/Search/CropPrevDetail?ResultId=1812',\n",
       "  'https://diag.tactri.gov.tw/Search/CropPrevDetail?ResultId=1812',\n",
       "  'https://diag.tactri.gov.tw/Search/CropPrevDetail?ResultId=1812',\n",
       "  'https://diag.tactri.gov.tw/Search/CropPrevDetail?ResultId=1792',\n",
       "  'https://diag.tactri.gov.tw/Search/CropPrevDetail?ResultId=1792',\n",
       "  'https://diag.tactri.gov.tw/Search/CropPrevDetail?ResultId=1792',\n",
       "  'https://diag.tactri.gov.tw/Search/CropPrevDetail?ResultId=1635',\n",
       "  'https://diag.tactri.gov.tw/Search/CropPrevDetail?ResultId=1635',\n",
       "  'https://diag.tactri.gov.tw/Search/CropPrevDetail?ResultId=1635',\n",
       "  'https://diag.tactri.gov.tw/Search/CropPrevDetail?ResultId=1634',\n",
       "  'https://diag.tactri.gov.tw/Search/CropPrevDetail?ResultId=1634',\n",
       "  'https://diag.tactri.gov.tw/Search/CropPrevDetail?ResultId=1634',\n",
       "  'https://diag.tactri.gov.tw/Search/CropPrevDetail?ResultId=1633',\n",
       "  'https://diag.tactri.gov.tw/Search/CropPrevDetail?ResultId=1633',\n",
       "  'https://diag.tactri.gov.tw/Search/CropPrevDetail?ResultId=1633',\n",
       "  'https://diag.tactri.gov.tw/Search/CropPrevDetail?ResultId=1632',\n",
       "  'https://diag.tactri.gov.tw/Search/CropPrevDetail?ResultId=1632',\n",
       "  'https://diag.tactri.gov.tw/Search/CropPrevDetail?ResultId=1632',\n",
       "  'https://diag.tactri.gov.tw/Search/CropPrevDetail?ResultId=1609',\n",
       "  'https://diag.tactri.gov.tw/Search/CropPrevDetail?ResultId=1609',\n",
       "  'https://diag.tactri.gov.tw/Search/CropPrevDetail?ResultId=1609',\n",
       "  'https://diag.tactri.gov.tw/Search/CropPrevDetail?ResultId=2934',\n",
       "  'https://diag.tactri.gov.tw/Search/CropPrevDetail?ResultId=2934',\n",
       "  'https://diag.tactri.gov.tw/Search/CropPrevDetail?ResultId=2934',\n",
       "  'https://diag.tactri.gov.tw/Search/CropPrevDetail?ResultId=2566',\n",
       "  'https://diag.tactri.gov.tw/Search/CropPrevDetail?ResultId=2566',\n",
       "  'https://diag.tactri.gov.tw/Search/CropPrevDetail?ResultId=2566',\n",
       "  'https://diag.tactri.gov.tw/Search/CropPrevDetail?ResultId=2540',\n",
       "  'https://diag.tactri.gov.tw/Search/CropPrevDetail?ResultId=2540',\n",
       "  'https://diag.tactri.gov.tw/Search/CropPrevDetail?ResultId=2540',\n",
       "  'https://diag.tactri.gov.tw/Search/CropPrevDetail?ResultId=2539',\n",
       "  'https://diag.tactri.gov.tw/Search/CropPrevDetail?ResultId=2539',\n",
       "  'https://diag.tactri.gov.tw/Search/CropPrevDetail?ResultId=2539',\n",
       "  'https://diag.tactri.gov.tw/Search/CropPrevDetail?ResultId=2513',\n",
       "  'https://diag.tactri.gov.tw/Search/CropPrevDetail?ResultId=2513',\n",
       "  'https://diag.tactri.gov.tw/Search/CropPrevDetail?ResultId=2513',\n",
       "  'https://diag.tactri.gov.tw/Search/CropPrevDetail?ResultId=3714',\n",
       "  'https://diag.tactri.gov.tw/Search/CropPrevDetail?ResultId=3714',\n",
       "  'https://diag.tactri.gov.tw/Search/CropPrevDetail?ResultId=3714',\n",
       "  'https://diag.tactri.gov.tw/Search/CropPrevDetail?ResultId=3706',\n",
       "  'https://diag.tactri.gov.tw/Search/CropPrevDetail?ResultId=3706',\n",
       "  'https://diag.tactri.gov.tw/Search/CropPrevDetail?ResultId=3706',\n",
       "  'https://diag.tactri.gov.tw/Search/CropPrevDetail?ResultId=3541',\n",
       "  'https://diag.tactri.gov.tw/Search/CropPrevDetail?ResultId=3541',\n",
       "  'https://diag.tactri.gov.tw/Search/CropPrevDetail?ResultId=3541',\n",
       "  'https://diag.tactri.gov.tw/Search/CropPrevDetail?ResultId=3540',\n",
       "  'https://diag.tactri.gov.tw/Search/CropPrevDetail?ResultId=3540',\n",
       "  'https://diag.tactri.gov.tw/Search/CropPrevDetail?ResultId=3539',\n",
       "  'https://diag.tactri.gov.tw/Search/CropPrevDetail?ResultId=3539',\n",
       "  'https://diag.tactri.gov.tw/Search/CropPrevDetail?ResultId=3539',\n",
       "  'https://diag.tactri.gov.tw/Search/CropPrevDetail?ResultId=3468',\n",
       "  'https://diag.tactri.gov.tw/Search/CropPrevDetail?ResultId=3468',\n",
       "  'https://diag.tactri.gov.tw/Search/CropPrevDetail?ResultId=4975',\n",
       "  'https://diag.tactri.gov.tw/Search/CropPrevDetail?ResultId=4975',\n",
       "  'https://diag.tactri.gov.tw/Search/CropPrevDetail?ResultId=4975',\n",
       "  'https://diag.tactri.gov.tw/Search/CropPrevDetail?ResultId=3974',\n",
       "  'https://diag.tactri.gov.tw/Search/CropPrevDetail?ResultId=3974',\n",
       "  'https://diag.tactri.gov.tw/Search/CropPrevDetail?ResultId=3974',\n",
       "  'https://diag.tactri.gov.tw/Search/CropPrevDetail?ResultId=5410',\n",
       "  'https://diag.tactri.gov.tw/Search/CropPrevDetail?ResultId=5410',\n",
       "  'https://diag.tactri.gov.tw/Search/CropPrevDetail?ResultId=5410',\n",
       "  'https://diag.tactri.gov.tw/Search/CropPrevDetail?ResultId=6340',\n",
       "  'https://diag.tactri.gov.tw/Search/CropPrevDetail?ResultId=6340',\n",
       "  'https://diag.tactri.gov.tw/Search/CropPrevDetail?ResultId=6340',\n",
       "  'https://diag.tactri.gov.tw/Search/CropPrevDetail?ResultId=10773',\n",
       "  'https://diag.tactri.gov.tw/Search/CropPrevDetail?ResultId=10773',\n",
       "  'https://diag.tactri.gov.tw/Search/CropPrevDetail?ResultId=10773',\n",
       "  'https://diag.tactri.gov.tw/Search/CropPrevDetail?ResultId=10771',\n",
       "  'https://diag.tactri.gov.tw/Search/CropPrevDetail?ResultId=10771',\n",
       "  'https://diag.tactri.gov.tw/Search/CropPrevDetail?ResultId=10771',\n",
       "  'https://diag.tactri.gov.tw/Search/CropPrevDetail?ResultId=10770',\n",
       "  'https://diag.tactri.gov.tw/Search/CropPrevDetail?ResultId=10770',\n",
       "  'https://diag.tactri.gov.tw/Search/CropPrevDetail?ResultId=10770',\n",
       "  'https://diag.tactri.gov.tw/Search/CropPrevDetail?ResultId=10415',\n",
       "  'https://diag.tactri.gov.tw/Search/CropPrevDetail?ResultId=10415',\n",
       "  'https://diag.tactri.gov.tw/Search/CropPrevDetail?ResultId=10415',\n",
       "  'https://diag.tactri.gov.tw/Search/CropPrevDetail?ResultId=10413',\n",
       "  'https://diag.tactri.gov.tw/Search/CropPrevDetail?ResultId=10413',\n",
       "  'https://diag.tactri.gov.tw/Search/CropPrevDetail?ResultId=10413',\n",
       "  'https://diag.tactri.gov.tw/Search/CropPrevDetail?ResultId=9373',\n",
       "  'https://diag.tactri.gov.tw/Search/CropPrevDetail?ResultId=9373',\n",
       "  'https://diag.tactri.gov.tw/Search/CropPrevDetail?ResultId=8777',\n",
       "  'https://diag.tactri.gov.tw/Search/CropPrevDetail?ResultId=8777',\n",
       "  'https://diag.tactri.gov.tw/Search/CropPrevDetail?ResultId=8777',\n",
       "  'https://diag.tactri.gov.tw/Search/CropPrevDetail?ResultId=16499',\n",
       "  'https://diag.tactri.gov.tw/Search/CropPrevDetail?ResultId=16499',\n",
       "  'https://diag.tactri.gov.tw/Search/CropPrevDetail?ResultId=16499',\n",
       "  'https://diag.tactri.gov.tw/Search/CropPrevDetail?ResultId=16499',\n",
       "  'https://diag.tactri.gov.tw/Search/CropPrevDetail?ResultId=16071',\n",
       "  'https://diag.tactri.gov.tw/Search/CropPrevDetail?ResultId=16071',\n",
       "  'https://diag.tactri.gov.tw/Search/CropPrevDetail?ResultId=16071',\n",
       "  'https://diag.tactri.gov.tw/Search/CropPrevDetail?ResultId=16071',\n",
       "  'https://diag.tactri.gov.tw/Search/CropPrevDetail?ResultId=13362',\n",
       "  'https://diag.tactri.gov.tw/Search/CropPrevDetail?ResultId=13362',\n",
       "  'https://diag.tactri.gov.tw/Search/CropPrevDetail?ResultId=13362',\n",
       "  'https://diag.tactri.gov.tw/Search/CropPrevDetail?ResultId=13360',\n",
       "  'https://diag.tactri.gov.tw/Search/CropPrevDetail?ResultId=13360',\n",
       "  'https://diag.tactri.gov.tw/Search/CropPrevDetail?ResultId=13360',\n",
       "  'https://diag.tactri.gov.tw/Search/CropPrevDetail?ResultId=11698',\n",
       "  'https://diag.tactri.gov.tw/Search/CropPrevDetail?ResultId=11698',\n",
       "  'https://diag.tactri.gov.tw/Search/CropPrevDetail?ResultId=11698',\n",
       "  'https://diag.tactri.gov.tw/Search/CropPrevDetail?ResultId=11697',\n",
       "  'https://diag.tactri.gov.tw/Search/CropPrevDetail?ResultId=11697',\n",
       "  'https://diag.tactri.gov.tw/Search/CropPrevDetail?ResultId=11697',\n",
       "  'https://diag.tactri.gov.tw/Search/CropPrevDetail?ResultId=11694',\n",
       "  'https://diag.tactri.gov.tw/Search/CropPrevDetail?ResultId=11694',\n",
       "  'https://diag.tactri.gov.tw/Search/CropPrevDetail?ResultId=11694',\n",
       "  'https://diag.tactri.gov.tw/Search/CropPrevDetail?ResultId=16858',\n",
       "  'https://diag.tactri.gov.tw/Search/CropPrevDetail?ResultId=16858',\n",
       "  'https://diag.tactri.gov.tw/Search/CropPrevDetail?ResultId=16858',\n",
       "  'https://diag.tactri.gov.tw/Search/CropPrevDetail?ResultId=17064',\n",
       "  'https://diag.tactri.gov.tw/Search/CropPrevDetail?ResultId=17064',\n",
       "  'https://diag.tactri.gov.tw/Search/CropPrevDetail?ResultId=17064',\n",
       "  'https://diag.tactri.gov.tw/Search/CropPrevDetail?ResultId=17676',\n",
       "  'https://diag.tactri.gov.tw/Search/CropPrevDetail?ResultId=17676',\n",
       "  'https://diag.tactri.gov.tw/Search/CropPrevDetail?ResultId=17676',\n",
       "  'https://diag.tactri.gov.tw/Search/CropPrevDetail?ResultId=17911',\n",
       "  'https://diag.tactri.gov.tw/Search/CropPrevDetail?ResultId=17911',\n",
       "  'https://diag.tactri.gov.tw/Search/CropPrevDetail?ResultId=17911',\n",
       "  'https://diag.tactri.gov.tw/Search/CropPrevDetail?ResultId=17911',\n",
       "  'https://diag.tactri.gov.tw/Search/CropPrevDetail?ResultId=18062',\n",
       "  'https://diag.tactri.gov.tw/Search/CropPrevDetail?ResultId=18062',\n",
       "  'https://diag.tactri.gov.tw/Search/CropPrevDetail?ResultId=15191',\n",
       "  'https://diag.tactri.gov.tw/Search/CropPrevDetail?ResultId=15191',\n",
       "  'https://diag.tactri.gov.tw/Search/CropPrevDetail?ResultId=15191',\n",
       "  'https://diag.tactri.gov.tw/Search/CropPrevDetail?ResultId=14401',\n",
       "  'https://diag.tactri.gov.tw/Search/CropPrevDetail?ResultId=14401',\n",
       "  'https://diag.tactri.gov.tw/Search/CropPrevDetail?ResultId=14401',\n",
       "  'https://diag.tactri.gov.tw/Search/CropPrevDetail?ResultId=14401',\n",
       "  'https://diag.tactri.gov.tw/Search/CropPrevDetail?ResultId=15288',\n",
       "  'https://diag.tactri.gov.tw/Search/CropPrevDetail?ResultId=15288',\n",
       "  'https://diag.tactri.gov.tw/Search/CropPrevDetail?ResultId=15288',\n",
       "  'https://diag.tactri.gov.tw/Search/CropPrevDetail?ResultId=15288',\n",
       "  'https://diag.tactri.gov.tw/Search/CropPrevDetail?ResultId=8798',\n",
       "  'https://diag.tactri.gov.tw/Search/CropPrevDetail?ResultId=8798',\n",
       "  'https://diag.tactri.gov.tw/Search/CropPrevDetail?ResultId=8798',\n",
       "  'https://diag.tactri.gov.tw/Search/CropPrevDetail?ResultId=8797',\n",
       "  'https://diag.tactri.gov.tw/Search/CropPrevDetail?ResultId=8797',\n",
       "  'https://diag.tactri.gov.tw/Search/CropPrevDetail?ResultId=8797',\n",
       "  'https://diag.tactri.gov.tw/Search/CropPrevDetail?ResultId=8796',\n",
       "  'https://diag.tactri.gov.tw/Search/CropPrevDetail?ResultId=8796',\n",
       "  'https://diag.tactri.gov.tw/Search/CropPrevDetail?ResultId=8796',\n",
       "  'https://diag.tactri.gov.tw/Search/CropPrevDetail?ResultId=10192',\n",
       "  'https://diag.tactri.gov.tw/Search/CropPrevDetail?ResultId=10192',\n",
       "  'https://diag.tactri.gov.tw/Search/CropPrevDetail?ResultId=10192',\n",
       "  'https://diag.tactri.gov.tw/Search/CropPrevDetail?ResultId=11449',\n",
       "  'https://diag.tactri.gov.tw/Search/CropPrevDetail?ResultId=11449',\n",
       "  'https://diag.tactri.gov.tw/Search/CropPrevDetail?ResultId=11449',\n",
       "  'https://diag.tactri.gov.tw/Search/CropPrevDetail?ResultId=11357',\n",
       "  'https://diag.tactri.gov.tw/Search/CropPrevDetail?ResultId=11356',\n",
       "  'https://diag.tactri.gov.tw/Search/CropPrevDetail?ResultId=11356',\n",
       "  'https://diag.tactri.gov.tw/Search/CropPrevDetail?ResultId=11355',\n",
       "  'https://diag.tactri.gov.tw/Search/CropPrevDetail?ResultId=11354',\n",
       "  'https://diag.tactri.gov.tw/Search/CropPrevDetail?ResultId=11354',\n",
       "  'https://diag.tactri.gov.tw/Search/CropPrevDetail?ResultId=13200',\n",
       "  'https://diag.tactri.gov.tw/Search/CropPrevDetail?ResultId=13200',\n",
       "  'https://diag.tactri.gov.tw/Search/CropPrevDetail?ResultId=13200',\n",
       "  'https://diag.tactri.gov.tw/Search/CropPrevDetail?ResultId=13199',\n",
       "  'https://diag.tactri.gov.tw/Search/CropPrevDetail?ResultId=13199',\n",
       "  'https://diag.tactri.gov.tw/Search/CropPrevDetail?ResultId=13199']}"
      ]
     },
     "execution_count": 172,
     "metadata": {},
     "output_type": "execute_result"
    }
   ],
   "source": [
    "getCsv(driver,sn='data2')"
   ]
  },
  {
   "cell_type": "code",
   "execution_count": 173,
   "metadata": {},
   "outputs": [],
   "source": [
    "driver.close()"
   ]
  },
  {
   "cell_type": "code",
   "execution_count": null,
   "metadata": {},
   "outputs": [],
   "source": []
  },
  {
   "cell_type": "code",
   "execution_count": null,
   "metadata": {},
   "outputs": [],
   "source": []
  },
  {
   "cell_type": "code",
   "execution_count": null,
   "metadata": {},
   "outputs": [],
   "source": []
  },
  {
   "cell_type": "code",
   "execution_count": 5,
   "metadata": {},
   "outputs": [],
   "source": [
    "val = ['疫病','炭疽病','Rhizopus sp.引起之真菌性病害','萎凋病',\n",
    " '細菌性葉斑病',\n",
    " '非洲菊斑潛蠅',\n",
    " '鐮孢菌引起之萎凋病',\n",
    " '立枯病',\n",
    "'猝倒病', \n",
    "'白絹病',\n",
    "'白粉病', \n",
    "'Phoma sp.引起之真菌性病害',\n",
    " '蠅類',\n",
    "'青枯病',\n",
    "'Rhizoctonia sp.引起之立枯病', \n",
    "'薊馬類',\n",
    "'莖腐病','白銹病'\n",
    "]"
   ]
  },
  {
   "cell_type": "code",
   "execution_count": null,
   "metadata": {},
   "outputs": [],
   "source": []
  },
  {
   "cell_type": "code",
   "execution_count": null,
   "metadata": {},
   "outputs": [],
   "source": []
  },
  {
   "cell_type": "code",
   "execution_count": 6,
   "metadata": {},
   "outputs": [],
   "source": [
    "temp1 = pd.read_csv('./data1.csv')"
   ]
  },
  {
   "cell_type": "code",
   "execution_count": 7,
   "metadata": {},
   "outputs": [],
   "source": [
    "temp2 = pd.read_csv('./data2.csv')"
   ]
  },
  {
   "cell_type": "code",
   "execution_count": 177,
   "metadata": {},
   "outputs": [
    {
     "data": {
      "text/plain": [
       "(159, 3)"
      ]
     },
     "execution_count": 177,
     "metadata": {},
     "output_type": "execute_result"
    }
   ],
   "source": [
    "temp1.shape"
   ]
  },
  {
   "cell_type": "code",
   "execution_count": 178,
   "metadata": {},
   "outputs": [
    {
     "data": {
      "text/html": [
       "<div>\n",
       "<style scoped>\n",
       "    .dataframe tbody tr th:only-of-type {\n",
       "        vertical-align: middle;\n",
       "    }\n",
       "\n",
       "    .dataframe tbody tr th {\n",
       "        vertical-align: top;\n",
       "    }\n",
       "\n",
       "    .dataframe thead th {\n",
       "        text-align: right;\n",
       "    }\n",
       "</style>\n",
       "<table border=\"1\" class=\"dataframe\">\n",
       "  <thead>\n",
       "    <tr style=\"text-align: right;\">\n",
       "      <th></th>\n",
       "      <th>name</th>\n",
       "      <th>image</th>\n",
       "      <th>url</th>\n",
       "    </tr>\n",
       "  </thead>\n",
       "  <tbody>\n",
       "  </tbody>\n",
       "</table>\n",
       "</div>"
      ],
      "text/plain": [
       "Empty DataFrame\n",
       "Columns: [name, image, url]\n",
       "Index: []"
      ]
     },
     "execution_count": 178,
     "metadata": {},
     "output_type": "execute_result"
    }
   ],
   "source": [
    "temp1[temp1['name'] == '']"
   ]
  },
  {
   "cell_type": "code",
   "execution_count": 8,
   "metadata": {},
   "outputs": [
    {
     "data": {
      "text/plain": [
       "46"
      ]
     },
     "execution_count": 8,
     "metadata": {},
     "output_type": "execute_result"
    }
   ],
   "source": [
    "(temp1['name'].isin(val)).sum()"
   ]
  },
  {
   "cell_type": "code",
   "execution_count": 9,
   "metadata": {},
   "outputs": [
    {
     "data": {
      "text/plain": [
       "(252, 3)"
      ]
     },
     "execution_count": 9,
     "metadata": {},
     "output_type": "execute_result"
    }
   ],
   "source": [
    "temp2.shape"
   ]
  },
  {
   "cell_type": "code",
   "execution_count": 10,
   "metadata": {},
   "outputs": [
    {
     "data": {
      "text/html": [
       "<div>\n",
       "<style scoped>\n",
       "    .dataframe tbody tr th:only-of-type {\n",
       "        vertical-align: middle;\n",
       "    }\n",
       "\n",
       "    .dataframe tbody tr th {\n",
       "        vertical-align: top;\n",
       "    }\n",
       "\n",
       "    .dataframe thead th {\n",
       "        text-align: right;\n",
       "    }\n",
       "</style>\n",
       "<table border=\"1\" class=\"dataframe\">\n",
       "  <thead>\n",
       "    <tr style=\"text-align: right;\">\n",
       "      <th></th>\n",
       "      <th>name</th>\n",
       "      <th>image</th>\n",
       "      <th>url</th>\n",
       "    </tr>\n",
       "  </thead>\n",
       "  <tbody>\n",
       "    <tr>\n",
       "      <th>0</th>\n",
       "      <td>疫病</td>\n",
       "      <td>https://diag.tactri.gov.tw/public/UploadDgnsRe...</td>\n",
       "      <td>https://diag.tactri.gov.tw/Search/CropPrevDeta...</td>\n",
       "    </tr>\n",
       "    <tr>\n",
       "      <th>1</th>\n",
       "      <td>疫病</td>\n",
       "      <td>https://diag.tactri.gov.tw/public/UploadDgnsRe...</td>\n",
       "      <td>https://diag.tactri.gov.tw/Search/CropPrevDeta...</td>\n",
       "    </tr>\n",
       "    <tr>\n",
       "      <th>2</th>\n",
       "      <td>疫病</td>\n",
       "      <td>https://diag.tactri.gov.tw/public/UploadDgnsRe...</td>\n",
       "      <td>https://diag.tactri.gov.tw/Search/CropPrevDeta...</td>\n",
       "    </tr>\n",
       "    <tr>\n",
       "      <th>3</th>\n",
       "      <td>研判非生物因子所引起</td>\n",
       "      <td>https://diag.tactri.gov.tw/public/UploadDgnsRe...</td>\n",
       "      <td>https://diag.tactri.gov.tw/Search/CropPrevDeta...</td>\n",
       "    </tr>\n",
       "    <tr>\n",
       "      <th>4</th>\n",
       "      <td>研判非生物因子所引起</td>\n",
       "      <td>https://diag.tactri.gov.tw/public/UploadDgnsRe...</td>\n",
       "      <td>https://diag.tactri.gov.tw/Search/CropPrevDeta...</td>\n",
       "    </tr>\n",
       "  </tbody>\n",
       "</table>\n",
       "</div>"
      ],
      "text/plain": [
       "         name                                              image  \\\n",
       "0          疫病  https://diag.tactri.gov.tw/public/UploadDgnsRe...   \n",
       "1          疫病  https://diag.tactri.gov.tw/public/UploadDgnsRe...   \n",
       "2          疫病  https://diag.tactri.gov.tw/public/UploadDgnsRe...   \n",
       "3  研判非生物因子所引起  https://diag.tactri.gov.tw/public/UploadDgnsRe...   \n",
       "4  研判非生物因子所引起  https://diag.tactri.gov.tw/public/UploadDgnsRe...   \n",
       "\n",
       "                                                 url  \n",
       "0  https://diag.tactri.gov.tw/Search/CropPrevDeta...  \n",
       "1  https://diag.tactri.gov.tw/Search/CropPrevDeta...  \n",
       "2  https://diag.tactri.gov.tw/Search/CropPrevDeta...  \n",
       "3  https://diag.tactri.gov.tw/Search/CropPrevDeta...  \n",
       "4  https://diag.tactri.gov.tw/Search/CropPrevDeta...  "
      ]
     },
     "execution_count": 10,
     "metadata": {},
     "output_type": "execute_result"
    }
   ],
   "source": [
    "temp2.head()"
   ]
  },
  {
   "cell_type": "code",
   "execution_count": 202,
   "metadata": {},
   "outputs": [
    {
     "data": {
      "text/plain": [
       "142"
      ]
     },
     "execution_count": 202,
     "metadata": {},
     "output_type": "execute_result"
    }
   ],
   "source": [
    "(temp2['name'].isin(val)).sum()"
   ]
  },
  {
   "cell_type": "code",
   "execution_count": 100,
   "metadata": {},
   "outputs": [
    {
     "data": {
      "text/plain": [
       "array(['研判非生物因子所引起', '萎凋病', '立枯病', '鐮孢菌引起之萎凋病', 'Alternaria sp.引起之真菌性病害',\n",
       "       '疫病', '白銹病', '莖腐病', 'Pythium sp.引起之腐霉菌', 'Stemphylium sp.引起之真菌性病害',\n",
       "       '與氣候因子有關', '未發現病原菌和蟲體', '研判不是病蟲危害', '炭疽病', '研判為環境因素或品種差異',\n",
       "       '研判與栽培管理有關', '黑斑病', '細菌性病害', '細菌性癌腫病', '採樣不正確', '猝倒病', '研判不是病害',\n",
       "       '刺吸式口器昆蟲為害', '葉蟎類', '研判為肥料、農藥施用不當'], dtype=object)"
      ]
     },
     "execution_count": 100,
     "metadata": {},
     "output_type": "execute_result"
    }
   ],
   "source": [
    "temp1['name'].unique()"
   ]
  },
  {
   "cell_type": "code",
   "execution_count": 101,
   "metadata": {},
   "outputs": [
    {
     "data": {
      "text/plain": [
       "array(['疫病', '研判非生物因子所引起', '炭疽病', '未發現病原菌和蟲體', 'Rhizopus sp.引起之真菌性病害',\n",
       "       '萎凋病', '細菌性葉斑病', '非洲菊斑潛蠅', nan, '鐮孢菌引起之萎凋病', '立枯病', '研判與栽培管理有關',\n",
       "       '不明環境或肥培因子造成', '猝倒病', '研判與植物生理障礙有關', '白絹病', '白粉病', '細菌性病害',\n",
       "       'Phoma sp.引起之真菌性病害', '蠅類', '青枯病', '研判不是病蟲危害', '採樣不正確', '病原菌已消滅',\n",
       "       '研判不是病害', '研判可能與施藥有關', 'Rhizoctonia sp.引起之立枯病', '薊馬類'],\n",
       "      dtype=object)"
      ]
     },
     "execution_count": 101,
     "metadata": {},
     "output_type": "execute_result"
    }
   ],
   "source": [
    "temp2['name'].unique()"
   ]
  },
  {
   "cell_type": "code",
   "execution_count": 11,
   "metadata": {},
   "outputs": [],
   "source": [
    "temp1 = temp1[temp1['name'].isin(val)]"
   ]
  },
  {
   "cell_type": "code",
   "execution_count": 12,
   "metadata": {},
   "outputs": [],
   "source": [
    "temp2 = temp2[temp2['name'].isin(val)]"
   ]
  },
  {
   "cell_type": "code",
   "execution_count": 213,
   "metadata": {},
   "outputs": [
    {
     "data": {
      "text/plain": [
       "(30, 3)"
      ]
     },
     "execution_count": 213,
     "metadata": {},
     "output_type": "execute_result"
    }
   ],
   "source": [
    "temp1.shape"
   ]
  },
  {
   "cell_type": "code",
   "execution_count": 214,
   "metadata": {},
   "outputs": [
    {
     "data": {
      "text/plain": [
       "(142, 3)"
      ]
     },
     "execution_count": 214,
     "metadata": {},
     "output_type": "execute_result"
    }
   ],
   "source": [
    "temp2.shape"
   ]
  },
  {
   "cell_type": "code",
   "execution_count": 13,
   "metadata": {},
   "outputs": [],
   "source": [
    "temp1.to_csv('./finaldata1.csv',index=False)"
   ]
  },
  {
   "cell_type": "code",
   "execution_count": 14,
   "metadata": {},
   "outputs": [],
   "source": [
    "temp2.to_csv('./finaldata2.csv',index=False)"
   ]
  },
  {
   "cell_type": "code",
   "execution_count": 15,
   "metadata": {},
   "outputs": [],
   "source": [
    "temp1 = pd.read_csv('./finaldata1.csv')"
   ]
  },
  {
   "cell_type": "code",
   "execution_count": 16,
   "metadata": {},
   "outputs": [],
   "source": [
    "temp2 = pd.read_csv('./finaldata2.csv')"
   ]
  },
  {
   "cell_type": "code",
   "execution_count": 219,
   "metadata": {},
   "outputs": [
    {
     "data": {
      "text/plain": [
       "(30, 3)"
      ]
     },
     "execution_count": 219,
     "metadata": {},
     "output_type": "execute_result"
    }
   ],
   "source": [
    "temp1.shape"
   ]
  },
  {
   "cell_type": "code",
   "execution_count": 222,
   "metadata": {},
   "outputs": [
    {
     "data": {
      "text/html": [
       "<div>\n",
       "<style scoped>\n",
       "    .dataframe tbody tr th:only-of-type {\n",
       "        vertical-align: middle;\n",
       "    }\n",
       "\n",
       "    .dataframe tbody tr th {\n",
       "        vertical-align: top;\n",
       "    }\n",
       "\n",
       "    .dataframe thead th {\n",
       "        text-align: right;\n",
       "    }\n",
       "</style>\n",
       "<table border=\"1\" class=\"dataframe\">\n",
       "  <thead>\n",
       "    <tr style=\"text-align: right;\">\n",
       "      <th></th>\n",
       "      <th>name</th>\n",
       "      <th>image</th>\n",
       "      <th>url</th>\n",
       "    </tr>\n",
       "  </thead>\n",
       "  <tbody>\n",
       "    <tr>\n",
       "      <th>0</th>\n",
       "      <td>萎凋病</td>\n",
       "      <td>https://diag.tactri.gov.tw/public/UploadDgnsRe...</td>\n",
       "      <td>https://diag.tactri.gov.tw/Search/CropPrevDeta...</td>\n",
       "    </tr>\n",
       "    <tr>\n",
       "      <th>1</th>\n",
       "      <td>萎凋病</td>\n",
       "      <td>https://diag.tactri.gov.tw/public/UploadDgnsRe...</td>\n",
       "      <td>https://diag.tactri.gov.tw/Search/CropPrevDeta...</td>\n",
       "    </tr>\n",
       "    <tr>\n",
       "      <th>2</th>\n",
       "      <td>萎凋病</td>\n",
       "      <td>https://diag.tactri.gov.tw/public/UploadDgnsRe...</td>\n",
       "      <td>https://diag.tactri.gov.tw/Search/CropPrevDeta...</td>\n",
       "    </tr>\n",
       "    <tr>\n",
       "      <th>3</th>\n",
       "      <td>立枯病</td>\n",
       "      <td>https://diag.tactri.gov.tw/public/UploadDgnsRe...</td>\n",
       "      <td>https://diag.tactri.gov.tw/Search/CropPrevDeta...</td>\n",
       "    </tr>\n",
       "    <tr>\n",
       "      <th>4</th>\n",
       "      <td>立枯病</td>\n",
       "      <td>https://diag.tactri.gov.tw/public/UploadDgnsRe...</td>\n",
       "      <td>https://diag.tactri.gov.tw/Search/CropPrevDeta...</td>\n",
       "    </tr>\n",
       "  </tbody>\n",
       "</table>\n",
       "</div>"
      ],
      "text/plain": [
       "  name                                              image  \\\n",
       "0  萎凋病  https://diag.tactri.gov.tw/public/UploadDgnsRe...   \n",
       "1  萎凋病  https://diag.tactri.gov.tw/public/UploadDgnsRe...   \n",
       "2  萎凋病  https://diag.tactri.gov.tw/public/UploadDgnsRe...   \n",
       "3  立枯病  https://diag.tactri.gov.tw/public/UploadDgnsRe...   \n",
       "4  立枯病  https://diag.tactri.gov.tw/public/UploadDgnsRe...   \n",
       "\n",
       "                                                 url  \n",
       "0  https://diag.tactri.gov.tw/Search/CropPrevDeta...  \n",
       "1  https://diag.tactri.gov.tw/Search/CropPrevDeta...  \n",
       "2  https://diag.tactri.gov.tw/Search/CropPrevDeta...  \n",
       "3  https://diag.tactri.gov.tw/Search/CropPrevDeta...  \n",
       "4  https://diag.tactri.gov.tw/Search/CropPrevDeta...  "
      ]
     },
     "execution_count": 222,
     "metadata": {},
     "output_type": "execute_result"
    }
   ],
   "source": [
    "temp1.head()"
   ]
  },
  {
   "cell_type": "code",
   "execution_count": 220,
   "metadata": {},
   "outputs": [
    {
     "data": {
      "text/plain": [
       "(142, 3)"
      ]
     },
     "execution_count": 220,
     "metadata": {},
     "output_type": "execute_result"
    }
   ],
   "source": [
    "temp2.shape"
   ]
  },
  {
   "cell_type": "code",
   "execution_count": 223,
   "metadata": {},
   "outputs": [
    {
     "data": {
      "text/html": [
       "<div>\n",
       "<style scoped>\n",
       "    .dataframe tbody tr th:only-of-type {\n",
       "        vertical-align: middle;\n",
       "    }\n",
       "\n",
       "    .dataframe tbody tr th {\n",
       "        vertical-align: top;\n",
       "    }\n",
       "\n",
       "    .dataframe thead th {\n",
       "        text-align: right;\n",
       "    }\n",
       "</style>\n",
       "<table border=\"1\" class=\"dataframe\">\n",
       "  <thead>\n",
       "    <tr style=\"text-align: right;\">\n",
       "      <th></th>\n",
       "      <th>name</th>\n",
       "      <th>image</th>\n",
       "      <th>url</th>\n",
       "    </tr>\n",
       "  </thead>\n",
       "  <tbody>\n",
       "    <tr>\n",
       "      <th>0</th>\n",
       "      <td>疫病</td>\n",
       "      <td>https://diag.tactri.gov.tw/public/UploadDgnsRe...</td>\n",
       "      <td>https://diag.tactri.gov.tw/Search/CropPrevDeta...</td>\n",
       "    </tr>\n",
       "    <tr>\n",
       "      <th>1</th>\n",
       "      <td>疫病</td>\n",
       "      <td>https://diag.tactri.gov.tw/public/UploadDgnsRe...</td>\n",
       "      <td>https://diag.tactri.gov.tw/Search/CropPrevDeta...</td>\n",
       "    </tr>\n",
       "    <tr>\n",
       "      <th>2</th>\n",
       "      <td>疫病</td>\n",
       "      <td>https://diag.tactri.gov.tw/public/UploadDgnsRe...</td>\n",
       "      <td>https://diag.tactri.gov.tw/Search/CropPrevDeta...</td>\n",
       "    </tr>\n",
       "    <tr>\n",
       "      <th>3</th>\n",
       "      <td>炭疽病</td>\n",
       "      <td>https://diag.tactri.gov.tw/public/UploadDgnsRe...</td>\n",
       "      <td>https://diag.tactri.gov.tw/Search/CropPrevDeta...</td>\n",
       "    </tr>\n",
       "    <tr>\n",
       "      <th>4</th>\n",
       "      <td>炭疽病</td>\n",
       "      <td>https://diag.tactri.gov.tw/public/UploadDgnsRe...</td>\n",
       "      <td>https://diag.tactri.gov.tw/Search/CropPrevDeta...</td>\n",
       "    </tr>\n",
       "  </tbody>\n",
       "</table>\n",
       "</div>"
      ],
      "text/plain": [
       "  name                                              image  \\\n",
       "0   疫病  https://diag.tactri.gov.tw/public/UploadDgnsRe...   \n",
       "1   疫病  https://diag.tactri.gov.tw/public/UploadDgnsRe...   \n",
       "2   疫病  https://diag.tactri.gov.tw/public/UploadDgnsRe...   \n",
       "3  炭疽病  https://diag.tactri.gov.tw/public/UploadDgnsRe...   \n",
       "4  炭疽病  https://diag.tactri.gov.tw/public/UploadDgnsRe...   \n",
       "\n",
       "                                                 url  \n",
       "0  https://diag.tactri.gov.tw/Search/CropPrevDeta...  \n",
       "1  https://diag.tactri.gov.tw/Search/CropPrevDeta...  \n",
       "2  https://diag.tactri.gov.tw/Search/CropPrevDeta...  \n",
       "3  https://diag.tactri.gov.tw/Search/CropPrevDeta...  \n",
       "4  https://diag.tactri.gov.tw/Search/CropPrevDeta...  "
      ]
     },
     "execution_count": 223,
     "metadata": {},
     "output_type": "execute_result"
    }
   ],
   "source": [
    "temp2.head()"
   ]
  },
  {
   "cell_type": "code",
   "execution_count": 17,
   "metadata": {},
   "outputs": [],
   "source": [
    "temp3 = pd.concat([temp1,temp2])"
   ]
  },
  {
   "cell_type": "code",
   "execution_count": 18,
   "metadata": {},
   "outputs": [],
   "source": [
    "temp3.to_csv('./concatfinal.csv',index=False)"
   ]
  },
  {
   "cell_type": "code",
   "execution_count": 243,
   "metadata": {},
   "outputs": [],
   "source": [
    "test = temp3['image']"
   ]
  },
  {
   "cell_type": "code",
   "execution_count": 19,
   "metadata": {},
   "outputs": [],
   "source": [
    "def convertImage(url):\n",
    "    toList = url\n",
    "    try:\n",
    "        toList = skioread(url)\n",
    "    except:\n",
    "        print(toList)\n",
    "    return toList"
   ]
  },
  {
   "cell_type": "code",
   "execution_count": 275,
   "metadata": {},
   "outputs": [],
   "source": [
    "temp3 = temp3[temp3['image'] != 'https://diag.tactri.gov.tw/public/UploadDgnsResultImage/14698/5392f012-b0ba-48d2-9949-38f7bba91164.jpg']"
   ]
  },
  {
   "cell_type": "code",
   "execution_count": 20,
   "metadata": {},
   "outputs": [],
   "source": [
    "temp3 = pd.read_csv('./concatfinal.csv')"
   ]
  },
  {
   "cell_type": "code",
   "execution_count": 21,
   "metadata": {},
   "outputs": [
    {
     "name": "stdout",
     "output_type": "stream",
     "text": [
      "https://diag.tactri.gov.tw/public/UploadDgnsResultImage/14698/5392f012-b0ba-48d2-9949-38f7bba91164.jpg\n",
      "https://diag.tactri.gov.tw/public/UploadDgnsResultImage/14698/1a306214-5176-4f52-bdb2-f52bf174fbaf.jpg\n",
      "https://diag.tactri.gov.tw/public/UploadDgnsResultImage/14698/adb598e6-29f1-4ead-b0fb-f9d3a0e86144.jpg\n"
     ]
    }
   ],
   "source": [
    "z = temp3['image'].apply(convertImage)"
   ]
  },
  {
   "cell_type": "code",
   "execution_count": 22,
   "metadata": {},
   "outputs": [],
   "source": [
    "temp3['image'] = z.tolist()"
   ]
  },
  {
   "cell_type": "code",
   "execution_count": 23,
   "metadata": {},
   "outputs": [],
   "source": [
    "tt = temp3['image'].map(lambda x: type(x) != str)"
   ]
  },
  {
   "cell_type": "code",
   "execution_count": 24,
   "metadata": {},
   "outputs": [],
   "source": [
    "temp4 = temp3[tt]"
   ]
  },
  {
   "cell_type": "code",
   "execution_count": 25,
   "metadata": {},
   "outputs": [],
   "source": [
    "import gc"
   ]
  },
  {
   "cell_type": "code",
   "execution_count": 26,
   "metadata": {},
   "outputs": [],
   "source": [
    "del z,temp3,tt"
   ]
  },
  {
   "cell_type": "code",
   "execution_count": 27,
   "metadata": {},
   "outputs": [
    {
     "data": {
      "text/plain": [
       "7"
      ]
     },
     "execution_count": 27,
     "metadata": {},
     "output_type": "execute_result"
    }
   ],
   "source": [
    "gc.collect()"
   ]
  },
  {
   "cell_type": "code",
   "execution_count": 30,
   "metadata": {},
   "outputs": [
    {
     "data": {
      "text/html": [
       "<div>\n",
       "<style scoped>\n",
       "    .dataframe tbody tr th:only-of-type {\n",
       "        vertical-align: middle;\n",
       "    }\n",
       "\n",
       "    .dataframe tbody tr th {\n",
       "        vertical-align: top;\n",
       "    }\n",
       "\n",
       "    .dataframe thead th {\n",
       "        text-align: right;\n",
       "    }\n",
       "</style>\n",
       "<table border=\"1\" class=\"dataframe\">\n",
       "  <thead>\n",
       "    <tr style=\"text-align: right;\">\n",
       "      <th></th>\n",
       "      <th>name</th>\n",
       "      <th>image</th>\n",
       "      <th>url</th>\n",
       "    </tr>\n",
       "  </thead>\n",
       "  <tbody>\n",
       "    <tr>\n",
       "      <th>0</th>\n",
       "      <td>萎凋病</td>\n",
       "      <td>[[[5, 8, 13], [6, 9, 14], [7, 10, 15], [7, 10,...</td>\n",
       "      <td>https://diag.tactri.gov.tw/Search/CropPrevDeta...</td>\n",
       "    </tr>\n",
       "    <tr>\n",
       "      <th>1</th>\n",
       "      <td>萎凋病</td>\n",
       "      <td>[[[8, 9, 14], [8, 9, 14], [8, 9, 14], [7, 8, 1...</td>\n",
       "      <td>https://diag.tactri.gov.tw/Search/CropPrevDeta...</td>\n",
       "    </tr>\n",
       "    <tr>\n",
       "      <th>2</th>\n",
       "      <td>萎凋病</td>\n",
       "      <td>[[[12, 10, 21], [11, 9, 20], [8, 6, 17], [7, 5...</td>\n",
       "      <td>https://diag.tactri.gov.tw/Search/CropPrevDeta...</td>\n",
       "    </tr>\n",
       "    <tr>\n",
       "      <th>3</th>\n",
       "      <td>立枯病</td>\n",
       "      <td>[[[50, 54, 53], [51, 55, 54], [56, 60, 59], [4...</td>\n",
       "      <td>https://diag.tactri.gov.tw/Search/CropPrevDeta...</td>\n",
       "    </tr>\n",
       "    <tr>\n",
       "      <th>4</th>\n",
       "      <td>立枯病</td>\n",
       "      <td>[[[54, 58, 67], [65, 69, 78], [85, 89, 100], [...</td>\n",
       "      <td>https://diag.tactri.gov.tw/Search/CropPrevDeta...</td>\n",
       "    </tr>\n",
       "  </tbody>\n",
       "</table>\n",
       "</div>"
      ],
      "text/plain": [
       "  name                                              image  \\\n",
       "0  萎凋病  [[[5, 8, 13], [6, 9, 14], [7, 10, 15], [7, 10,...   \n",
       "1  萎凋病  [[[8, 9, 14], [8, 9, 14], [8, 9, 14], [7, 8, 1...   \n",
       "2  萎凋病  [[[12, 10, 21], [11, 9, 20], [8, 6, 17], [7, 5...   \n",
       "3  立枯病  [[[50, 54, 53], [51, 55, 54], [56, 60, 59], [4...   \n",
       "4  立枯病  [[[54, 58, 67], [65, 69, 78], [85, 89, 100], [...   \n",
       "\n",
       "                                                 url  \n",
       "0  https://diag.tactri.gov.tw/Search/CropPrevDeta...  \n",
       "1  https://diag.tactri.gov.tw/Search/CropPrevDeta...  \n",
       "2  https://diag.tactri.gov.tw/Search/CropPrevDeta...  \n",
       "3  https://diag.tactri.gov.tw/Search/CropPrevDeta...  \n",
       "4  https://diag.tactri.gov.tw/Search/CropPrevDeta...  "
      ]
     },
     "execution_count": 30,
     "metadata": {},
     "output_type": "execute_result"
    }
   ],
   "source": [
    "temp4.head()"
   ]
  },
  {
   "cell_type": "code",
   "execution_count": 12,
   "metadata": {},
   "outputs": [],
   "source": []
  },
  {
   "cell_type": "code",
   "execution_count": null,
   "metadata": {},
   "outputs": [],
   "source": []
  },
  {
   "cell_type": "code",
   "execution_count": 28,
   "metadata": {},
   "outputs": [],
   "source": [
    "path = './'"
   ]
  },
  {
   "cell_type": "code",
   "execution_count": 29,
   "metadata": {},
   "outputs": [],
   "source": [
    "import os"
   ]
  },
  {
   "cell_type": "code",
   "execution_count": 31,
   "metadata": {
    "scrolled": true
   },
   "outputs": [],
   "source": [
    "i=0\n",
    "for img, n in zip(temp4['image'],temp4['name']):\n",
    "    print(i)\n",
    "    p = path+\"/data\"+\"/\"+n\n",
    "    if not os.path.exists(p):\n",
    "        os.mkdir(p)\n",
    "    skio.imsave(p+\"/\"+str(i)+\".jpeg\",img)\n",
    "    i+=1"
   ]
  },
  {
   "cell_type": "code",
   "execution_count": 32,
   "metadata": {},
   "outputs": [],
   "source": [
    "del i,img,n,p"
   ]
  },
  {
   "cell_type": "code",
   "execution_count": 33,
   "metadata": {},
   "outputs": [
    {
     "data": {
      "text/plain": [
       "0"
      ]
     },
     "execution_count": 33,
     "metadata": {},
     "output_type": "execute_result"
    }
   ],
   "source": [
    "gc.collect()"
   ]
  },
  {
   "cell_type": "code",
   "execution_count": 34,
   "metadata": {},
   "outputs": [
    {
     "data": {
      "text/plain": [
       "(185, 3)"
      ]
     },
     "execution_count": 34,
     "metadata": {},
     "output_type": "execute_result"
    }
   ],
   "source": [
    "temp4.shape"
   ]
  },
  {
   "cell_type": "code",
   "execution_count": null,
   "metadata": {},
   "outputs": [],
   "source": []
  },
  {
   "cell_type": "code",
   "execution_count": null,
   "metadata": {},
   "outputs": [],
   "source": [
    "1+1"
   ]
  },
  {
   "cell_type": "code",
   "execution_count": 31,
   "metadata": {},
   "outputs": [],
   "source": [
    "tt = temp4['image']"
   ]
  },
  {
   "cell_type": "code",
   "execution_count": null,
   "metadata": {},
   "outputs": [],
   "source": [
    "temp4['image'] = tt.apply(lambda x: x.tolist())"
   ]
  },
  {
   "cell_type": "code",
   "execution_count": null,
   "metadata": {},
   "outputs": [],
   "source": [
    "temp4.to_csv('./train.csv',index=False)"
   ]
  },
  {
   "cell_type": "code",
   "execution_count": null,
   "metadata": {},
   "outputs": [],
   "source": []
  }
 ],
 "metadata": {
  "kernelspec": {
   "display_name": "Python (life)",
   "language": "python",
   "name": "life"
  },
  "language_info": {
   "codemirror_mode": {
    "name": "ipython",
    "version": 3
   },
   "file_extension": ".py",
   "mimetype": "text/x-python",
   "name": "python",
   "nbconvert_exporter": "python",
   "pygments_lexer": "ipython3",
   "version": "3.6.0"
  }
 },
 "nbformat": 4,
 "nbformat_minor": 2
}
