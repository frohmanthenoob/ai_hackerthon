{
 "cells": [
  {
   "cell_type": "code",
   "execution_count": 84,
   "metadata": {},
   "outputs": [],
   "source": [
    "import os\n",
    "import matplotlib.pyplot as plt \n",
    "import pandas as pd\n",
    "import numpy as np\n",
    "import gc\n",
    "from functools import reduce\n",
    "import ssl\n",
    "import urllib\n",
    "import cv2"
   ]
  },
  {
   "cell_type": "code",
   "execution_count": 85,
   "metadata": {},
   "outputs": [],
   "source": [
    "from keras.models import Sequential\n",
    "from keras.layers import Dense, Activation, Dropout, Flatten\n",
    "from keras.layers import Conv2D\n",
    "from keras.layers import AveragePooling2D\n",
    "from keras.callbacks import ModelCheckpoint, ReduceLROnPlateau, EarlyStopping\n",
    "from keras import optimizers\n",
    "from keras import losses\n",
    "from keras import metrics"
   ]
  },
  {
   "cell_type": "code",
   "execution_count": 86,
   "metadata": {},
   "outputs": [
    {
     "name": "stdout",
     "output_type": "stream",
     "text": [
      "_________________________________________________________________\n",
      "Layer (type)                 Output Shape              Param #   \n",
      "=================================================================\n",
      "conv2d_14 (Conv2D)           (None, 250, 250, 64)      1792      \n",
      "_________________________________________________________________\n",
      "conv2d_15 (Conv2D)           (None, 250, 250, 64)      36928     \n",
      "_________________________________________________________________\n",
      "average_pooling2d_6 (Average (None, 125, 125, 64)      0         \n",
      "_________________________________________________________________\n",
      "conv2d_16 (Conv2D)           (None, 125, 125, 128)     73856     \n",
      "_________________________________________________________________\n",
      "conv2d_17 (Conv2D)           (None, 125, 125, 128)     147584    \n",
      "_________________________________________________________________\n",
      "average_pooling2d_7 (Average (None, 62, 62, 128)       0         \n",
      "_________________________________________________________________\n",
      "conv2d_18 (Conv2D)           (None, 62, 62, 256)       295168    \n",
      "_________________________________________________________________\n",
      "conv2d_19 (Conv2D)           (None, 62, 62, 256)       590080    \n",
      "_________________________________________________________________\n",
      "conv2d_20 (Conv2D)           (None, 62, 62, 256)       590080    \n",
      "_________________________________________________________________\n",
      "average_pooling2d_8 (Average (None, 31, 31, 256)       0         \n",
      "_________________________________________________________________\n",
      "conv2d_21 (Conv2D)           (None, 31, 31, 512)       1180160   \n",
      "_________________________________________________________________\n",
      "conv2d_22 (Conv2D)           (None, 31, 31, 512)       2359808   \n",
      "_________________________________________________________________\n",
      "conv2d_23 (Conv2D)           (None, 31, 31, 512)       2359808   \n",
      "_________________________________________________________________\n",
      "average_pooling2d_9 (Average (None, 15, 15, 512)       0         \n",
      "_________________________________________________________________\n",
      "conv2d_24 (Conv2D)           (None, 15, 15, 512)       2359808   \n",
      "_________________________________________________________________\n",
      "conv2d_25 (Conv2D)           (None, 15, 15, 512)       2359808   \n",
      "_________________________________________________________________\n",
      "conv2d_26 (Conv2D)           (None, 15, 15, 512)       2359808   \n",
      "_________________________________________________________________\n",
      "average_pooling2d_10 (Averag (None, 7, 7, 512)         0         \n",
      "_________________________________________________________________\n",
      "flatten_2 (Flatten)          (None, 25088)             0         \n",
      "_________________________________________________________________\n",
      "dense_10 (Dense)             (None, 3136)              78679104  \n",
      "_________________________________________________________________\n",
      "dense_11 (Dense)             (None, 1568)              4918816   \n",
      "_________________________________________________________________\n",
      "dense_12 (Dense)             (None, 784)               1230096   \n",
      "_________________________________________________________________\n",
      "dense_13 (Dense)             (None, 392)               307720    \n",
      "_________________________________________________________________\n",
      "dense_14 (Dense)             (None, 196)               77028     \n",
      "_________________________________________________________________\n",
      "dense_15 (Dense)             (None, 98)                19306     \n",
      "_________________________________________________________________\n",
      "dense_16 (Dense)             (None, 49)                4851      \n",
      "_________________________________________________________________\n",
      "dense_17 (Dense)             (None, 25)                1250      \n",
      "_________________________________________________________________\n",
      "dense_18 (Dense)             (None, 18)                468       \n",
      "=================================================================\n",
      "Total params: 99,953,327\n",
      "Trainable params: 99,953,327\n",
      "Non-trainable params: 0\n",
      "_________________________________________________________________\n"
     ]
    }
   ],
   "source": [
    "input_shape = (250, 250, 3)\n",
    "\n",
    "model = Sequential([\n",
    "    Conv2D(64, (3, 3), input_shape=input_shape, padding='same', activation='relu'),\n",
    "    Conv2D(64, (3, 3), activation='relu', padding='same'),\n",
    "    AveragePooling2D(pool_size=(2, 2), strides=(2, 2)),\n",
    "    Conv2D(128, (3, 3), activation='relu', padding='same'),\n",
    "    Conv2D(128, (3, 3), activation='relu', padding='same',),\n",
    "    AveragePooling2D(pool_size=(2, 2), strides=(2, 2)),\n",
    "    Conv2D(256, (3, 3), activation='relu', padding='same',),\n",
    "    Conv2D(256, (3, 3), activation='relu', padding='same',),\n",
    "    Conv2D(256, (3, 3), activation='relu', padding='same',),\n",
    "    AveragePooling2D(pool_size=(2, 2), strides=(2, 2)),\n",
    "    Conv2D(512, (3, 3), activation='relu', padding='same',),\n",
    "    Conv2D(512, (3, 3), activation='relu', padding='same',),\n",
    "    Conv2D(512, (3, 3), activation='relu', padding='same',),\n",
    "    AveragePooling2D(pool_size=(2, 2), strides=(2, 2)),\n",
    "    Conv2D(512, (3, 3), activation='relu', padding='same',),\n",
    "    Conv2D(512, (3, 3), activation='relu', padding='same',),\n",
    "    Conv2D(512, (3, 3), activation='relu', padding='same',),\n",
    "    AveragePooling2D(pool_size=(2, 2), strides=(2, 2)),\n",
    "    Flatten(),\n",
    "#    Dense(12544, activation='selu'),\n",
    "#    Dense(6274, activation='selu'),\n",
    "    Dense(3136, activation='selu'),\n",
    "    Dense(1568, activation='selu'),\n",
    "    Dense(784, activation='selu'),\n",
    "    Dense(392, activation='selu'),\n",
    "    Dense(196, activation='selu'),\n",
    "    Dense(98, activation='selu'),\n",
    "    Dense(49, activation='selu'),\n",
    "    Dense(25, activation='selu'),\n",
    "    Dense(18, activation='softmax')\n",
    "])\n",
    "# 25088\n",
    "model.summary()"
   ]
  },
  {
   "cell_type": "code",
   "execution_count": 87,
   "metadata": {},
   "outputs": [],
   "source": [
    "save_model_name = \"after_hackerthon_softmax.model\""
   ]
  },
  {
   "cell_type": "code",
   "execution_count": 88,
   "metadata": {},
   "outputs": [],
   "source": [
    "def getDf(path,W):\n",
    "    o = {}\n",
    "    o['name'] = []\n",
    "    o['image'] = []\n",
    "    for p in os.listdir(path):\n",
    "        for filename in os.listdir(path+\"/\"+p):\n",
    "            o['name'].append(p)\n",
    "            oriimg = plt.imread(path+\"/\"+p+\"/\"+filename)\n",
    "            height, width, depth = oriimg.shape\n",
    "            imgScale = W/width if width>height else W/height\n",
    "            newX,newY = width*imgScale, height*imgScale\n",
    "            newSize = newX if newX>newY else newY\n",
    "            newimg = cv2.resize(oriimg,(int(newSize),int(newSize)))/127.5\n",
    "            o['image'].append(newimg.tolist())\n",
    "    return o"
   ]
  },
  {
   "cell_type": "code",
   "execution_count": 89,
   "metadata": {},
   "outputs": [],
   "source": [
    "data = pd.DataFrame.from_dict(getDf('./data',250.))"
   ]
  },
  {
   "cell_type": "code",
   "execution_count": 90,
   "metadata": {},
   "outputs": [],
   "source": [
    "def getTrainSet(d):\n",
    "    a = d['image'].tolist()\n",
    "    x_train = reduce(lambda x,y: np.concatenate((np.array(x).reshape(-1,250,250,3),np.array(y).reshape(-1,250,250,3)),axis=0),a)\n",
    "    y_train = pd.get_dummies(data['name'])\n",
    "    return x_train,y_train"
   ]
  },
  {
   "cell_type": "code",
   "execution_count": 91,
   "metadata": {},
   "outputs": [],
   "source": [
    "x_train,y_train = getTrainSet(data)"
   ]
  },
  {
   "cell_type": "code",
   "execution_count": 9,
   "metadata": {},
   "outputs": [],
   "source": [
    "# from keras import backend as K\n",
    "# K.tensorflow_backend._get_available_gpus()"
   ]
  },
  {
   "cell_type": "code",
   "execution_count": 10,
   "metadata": {},
   "outputs": [
    {
     "data": {
      "text/plain": [
       "7"
      ]
     },
     "execution_count": 10,
     "metadata": {},
     "output_type": "execute_result"
    }
   ],
   "source": [
    "del data\n",
    "\n",
    "gc.collect()"
   ]
  },
  {
   "cell_type": "code",
   "execution_count": 11,
   "metadata": {},
   "outputs": [],
   "source": [
    "model.compile(optimizer='adam',\n",
    "              loss='binary_crossentropy',\n",
    "              metrics=['acc'])"
   ]
  },
  {
   "cell_type": "code",
   "execution_count": 12,
   "metadata": {},
   "outputs": [],
   "source": [
    "model_checkpoint = ModelCheckpoint(save_model_name,monitor='val_acc')\n",
    "\n",
    "reduce_lr = ReduceLROnPlateau(monitor='val_loss', factor=0.2,\n",
    "                              patience=2, min_lr=0.000001)\n",
    "\n",
    "early_stop = EarlyStopping(monitor='val_loss', min_delta=0, patience=5)\n"
   ]
  },
  {
   "cell_type": "code",
   "execution_count": null,
   "metadata": {},
   "outputs": [],
   "source": []
  },
  {
   "cell_type": "code",
   "execution_count": 13,
   "metadata": {
    "scrolled": true
   },
   "outputs": [
    {
     "name": "stdout",
     "output_type": "stream",
     "text": [
      "Train on 121 samples, validate on 60 samples\n",
      "Epoch 1/20\n",
      "121/121 [==============================] - 82s 682ms/step - loss: 4.8463 - acc: 0.5335 - val_loss: 5.8534 - val_acc: 0.6333\n",
      "Epoch 2/20\n",
      "121/121 [==============================] - 80s 662ms/step - loss: 5.8710 - acc: 0.6322 - val_loss: 5.8534 - val_acc: 0.6333\n",
      "Epoch 3/20\n",
      "121/121 [==============================] - 69s 568ms/step - loss: 5.3815 - acc: 0.6630 - val_loss: 4.9677 - val_acc: 0.6889\n",
      "Epoch 4/20\n",
      "121/121 [==============================] - 67s 557ms/step - loss: 5.1767 - acc: 0.6758 - val_loss: 4.9677 - val_acc: 0.6889\n",
      "Epoch 5/20\n",
      "121/121 [==============================] - 67s 557ms/step - loss: 5.1767 - acc: 0.6758 - val_loss: 4.9677 - val_acc: 0.6889\n",
      "Epoch 6/20\n",
      "121/121 [==============================] - 71s 588ms/step - loss: 5.1767 - acc: 0.6758 - val_loss: 4.9677 - val_acc: 0.6889\n",
      "Epoch 7/20\n",
      "121/121 [==============================] - 72s 597ms/step - loss: 5.1767 - acc: 0.6758 - val_loss: 4.9677 - val_acc: 0.6889\n",
      "Epoch 8/20\n",
      "121/121 [==============================] - 73s 602ms/step - loss: 5.1767 - acc: 0.6758 - val_loss: 4.9677 - val_acc: 0.6889\n"
     ]
    }
   ],
   "source": [
    "hist = model.fit(x=x_train, y=y_train, validation_split=0.33,epochs=20,batch_size=32, callbacks=[model_checkpoint,reduce_lr, early_stop])"
   ]
  },
  {
   "cell_type": "code",
   "execution_count": 93,
   "metadata": {},
   "outputs": [
    {
     "name": "stdout",
     "output_type": "stream",
     "text": [
      "_________________________________________________________________\n",
      "Layer (type)                 Output Shape              Param #   \n",
      "=================================================================\n",
      "conv2d_14 (Conv2D)           (None, 250, 250, 64)      1792      \n",
      "_________________________________________________________________\n",
      "conv2d_15 (Conv2D)           (None, 250, 250, 64)      36928     \n",
      "_________________________________________________________________\n",
      "average_pooling2d_6 (Average (None, 125, 125, 64)      0         \n",
      "_________________________________________________________________\n",
      "conv2d_16 (Conv2D)           (None, 125, 125, 128)     73856     \n",
      "_________________________________________________________________\n",
      "conv2d_17 (Conv2D)           (None, 125, 125, 128)     147584    \n",
      "_________________________________________________________________\n",
      "average_pooling2d_7 (Average (None, 62, 62, 128)       0         \n",
      "_________________________________________________________________\n",
      "conv2d_18 (Conv2D)           (None, 62, 62, 256)       295168    \n",
      "_________________________________________________________________\n",
      "conv2d_19 (Conv2D)           (None, 62, 62, 256)       590080    \n",
      "_________________________________________________________________\n",
      "conv2d_20 (Conv2D)           (None, 62, 62, 256)       590080    \n",
      "_________________________________________________________________\n",
      "average_pooling2d_8 (Average (None, 31, 31, 256)       0         \n",
      "_________________________________________________________________\n",
      "conv2d_21 (Conv2D)           (None, 31, 31, 512)       1180160   \n",
      "_________________________________________________________________\n",
      "conv2d_22 (Conv2D)           (None, 31, 31, 512)       2359808   \n",
      "_________________________________________________________________\n",
      "conv2d_23 (Conv2D)           (None, 31, 31, 512)       2359808   \n",
      "_________________________________________________________________\n",
      "average_pooling2d_9 (Average (None, 15, 15, 512)       0         \n",
      "_________________________________________________________________\n",
      "conv2d_24 (Conv2D)           (None, 15, 15, 512)       2359808   \n",
      "_________________________________________________________________\n",
      "conv2d_25 (Conv2D)           (None, 15, 15, 512)       2359808   \n",
      "_________________________________________________________________\n",
      "conv2d_26 (Conv2D)           (None, 15, 15, 512)       2359808   \n",
      "_________________________________________________________________\n",
      "average_pooling2d_10 (Averag (None, 7, 7, 512)         0         \n",
      "_________________________________________________________________\n",
      "flatten_2 (Flatten)          (None, 25088)             0         \n",
      "_________________________________________________________________\n",
      "dense_10 (Dense)             (None, 3136)              78679104  \n",
      "_________________________________________________________________\n",
      "dense_11 (Dense)             (None, 1568)              4918816   \n",
      "_________________________________________________________________\n",
      "dense_12 (Dense)             (None, 784)               1230096   \n",
      "_________________________________________________________________\n",
      "dense_13 (Dense)             (None, 392)               307720    \n",
      "_________________________________________________________________\n",
      "dense_14 (Dense)             (None, 196)               77028     \n",
      "_________________________________________________________________\n",
      "dense_15 (Dense)             (None, 98)                19306     \n",
      "_________________________________________________________________\n",
      "dense_16 (Dense)             (None, 49)                4851      \n",
      "_________________________________________________________________\n",
      "dense_17 (Dense)             (None, 25)                1250      \n",
      "_________________________________________________________________\n",
      "dense_18 (Dense)             (None, 18)                468       \n",
      "=================================================================\n",
      "Total params: 99,953,327\n",
      "Trainable params: 99,953,327\n",
      "Non-trainable params: 0\n",
      "_________________________________________________________________\n"
     ]
    }
   ],
   "source": [
    "model.summary()"
   ]
  },
  {
   "cell_type": "code",
   "execution_count": 14,
   "metadata": {},
   "outputs": [
    {
     "data": {
      "text/plain": [
       "<matplotlib.legend.Legend at 0x7f59d21ad208>"
      ]
     },
     "execution_count": 14,
     "metadata": {},
     "output_type": "execute_result"
    },
    {
     "data": {
      "image/png": "[encoded data removed]",
      "text/plain": [
       "<Figure size 1080x360 with 2 Axes>"
      ]
     },
     "metadata": {
      "needs_background": "light"
     },
     "output_type": "display_data"
    }
   ],
   "source": [
    "fig, (ax_loss, ax_score) = plt.subplots(1, 2, figsize=(15,5))\n",
    "ax_loss.plot(hist.epoch, hist.history[\"loss\"], label=\"Train loss\")\n",
    "ax_loss.plot(hist.epoch, hist.history[\"val_loss\"], label=\"Validation loss\")\n",
    "ax_loss.legend()\n",
    "ax_score.plot(hist.epoch, hist.history[\"acc\"], label=\"Train score\")\n",
    "ax_score.plot(hist.epoch, hist.history[\"val_acc\"], label=\"Validation score\")\n",
    "ax_score.legend()"
   ]
  },
  {
   "cell_type": "code",
   "execution_count": null,
   "metadata": {},
   "outputs": [],
   "source": []
  },
  {
   "cell_type": "code",
   "execution_count": 15,
   "metadata": {},
   "outputs": [],
   "source": [
    "def imgResize(url,W):\n",
    "    context = ssl._create_unverified_context()\n",
    "    resp =  urllib.request.urlopen(url, context=context)\n",
    "    oriimg = np.asarray(bytearray(resp.read()), dtype=\"uint8\")\n",
    "    oriimg = cv2.imdecode(oriimg, cv2.IMREAD_ANYCOLOR)\n",
    "    oriimg = cv2.cvtColor(oriimg,cv2.COLOR_BGR2RGB)\n",
    "    height, width, depth = oriimg.shape\n",
    "    imgScale = W/width if width>height else W/height\n",
    "    newX,newY = width*imgScale, height*imgScale\n",
    "    newSize = newX if newX>newY else newY\n",
    "    newimg = cv2.resize(oriimg,(int(newSize),int(newSize)))/127.5\n",
    "    return np.array(newimg).reshape(-1,int(newSize),int(newSize),3)"
   ]
  },
  {
   "cell_type": "code",
   "execution_count": null,
   "metadata": {},
   "outputs": [],
   "source": []
  },
  {
   "cell_type": "code",
   "execution_count": null,
   "metadata": {},
   "outputs": [],
   "source": []
  },
  {
   "cell_type": "code",
   "execution_count": null,
   "metadata": {},
   "outputs": [],
   "source": []
  },
  {
   "cell_type": "code",
   "execution_count": 16,
   "metadata": {},
   "outputs": [],
   "source": [
    "def getDf(path,W):\n",
    "    o = {}\n",
    "    o['name'] = []\n",
    "    o['image'] = []\n",
    "    for p in os.listdir(path):\n",
    "        for filename in os.listdir(path+\"/\"+p):\n",
    "            o['name'].append(p)\n",
    "            oriimg = plt.imread(path+\"/\"+p+\"/\"+filename)\n",
    "            height, width, depth = oriimg.shape\n",
    "            imgScale = W/width if width>height else W/height\n",
    "            newX,newY = width*imgScale, height*imgScale\n",
    "            newSize = newX if newX>newY else newY\n",
    "            newimg = cv2.resize(oriimg,(int(newSize),int(newSize)))\n",
    "            o['image'].append(newimg.tolist())\n",
    "    return o"
   ]
  },
  {
   "cell_type": "code",
   "execution_count": null,
   "metadata": {},
   "outputs": [],
   "source": []
  },
  {
   "cell_type": "code",
   "execution_count": null,
   "metadata": {},
   "outputs": [],
   "source": []
  },
  {
   "cell_type": "code",
   "execution_count": 17,
   "metadata": {},
   "outputs": [],
   "source": [
    "def getName(m,n,img):\n",
    "    return pd.Categorical(n).categories[np.argmax(m.predict(img))]"
   ]
  },
  {
   "cell_type": "code",
   "execution_count": 18,
   "metadata": {},
   "outputs": [],
   "source": [
    "image = imgResize(\"https://diag.tactri.gov.tw/public/UploadDgnsResultImage/6519/2d8e4ed2-833c-433c-ac7d-3401af085a78.jpg\",250.)"
   ]
  },
  {
   "cell_type": "code",
   "execution_count": 19,
   "metadata": {},
   "outputs": [],
   "source": [
    "data = pd.DataFrame.from_dict(getDf('./data',250.))"
   ]
  },
  {
   "cell_type": "code",
   "execution_count": 20,
   "metadata": {},
   "outputs": [
    {
     "data": {
      "text/plain": [
       "'Rhizoctonia sp.引起之立枯病'"
      ]
     },
     "execution_count": 20,
     "metadata": {},
     "output_type": "execute_result"
    }
   ],
   "source": [
    "# 萎凋病 \n",
    "getName(model,data['name'],image)"
   ]
  },
  {
   "cell_type": "code",
   "execution_count": null,
   "metadata": {},
   "outputs": [],
   "source": []
  },
  {
   "cell_type": "code",
   "execution_count": 21,
   "metadata": {},
   "outputs": [],
   "source": [
    "def imgResize2(i,W):\n",
    "    oriimg = np.array(i)\n",
    "    height, width, depth = oriimg.shape\n",
    "    imgScale = W/width if width>height else W/height\n",
    "    newX,newY = width*imgScale, height*imgScale\n",
    "    newSize = newX if newX>newY else newY\n",
    "    newimg = cv2.resize(oriimg,(int(newSize),int(newSize)))/127.5\n",
    "    return np.array(newimg).reshape(-1,int(newSize),int(newSize),3)"
   ]
  },
  {
   "cell_type": "code",
   "execution_count": 22,
   "metadata": {},
   "outputs": [],
   "source": [
    "j=0\n",
    "for i in range(data.shape[0]):\n",
    "    k = data.iloc[i]\n",
    "    if k['name'] == getName(model,data['name'],imgResize2(k['image'],250)):\n",
    "        j+=1"
   ]
  },
  {
   "cell_type": "code",
   "execution_count": 23,
   "metadata": {},
   "outputs": [
    {
     "data": {
      "text/plain": [
       "0.0055248618784530384"
      ]
     },
     "execution_count": 23,
     "metadata": {},
     "output_type": "execute_result"
    }
   ],
   "source": [
    "j/data.shape[0]"
   ]
  },
  {
   "cell_type": "code",
   "execution_count": null,
   "metadata": {},
   "outputs": [],
   "source": []
  },
  {
   "cell_type": "code",
   "execution_count": 73,
   "metadata": {},
   "outputs": [],
   "source": [
    "a = pd.read_csv('./concatfinal.csv')"
   ]
  },
  {
   "cell_type": "code",
   "execution_count": 82,
   "metadata": {},
   "outputs": [
    {
     "name": "stdout",
     "output_type": "stream",
     "text": [
      "炭疽病\n",
      "Rhizoctonia sp.引起之立枯病\n"
     ]
    }
   ],
   "source": [
    "n = 100\n",
    "print(a.iloc[n]['name'])\n",
    "print(getName(model,data['name'],imgResize(a.iloc[n]['image'],250.)))"
   ]
  },
  {
   "cell_type": "code",
   "execution_count": 49,
   "metadata": {},
   "outputs": [
    {
     "data": {
      "text/plain": [
       "array([1])"
      ]
     },
     "execution_count": 49,
     "metadata": {},
     "output_type": "execute_result"
    }
   ],
   "source": [
    "model.predict_classes(imgResize(a.iloc[n]['image'],250.))"
   ]
  },
  {
   "cell_type": "code",
   "execution_count": 51,
   "metadata": {},
   "outputs": [
    {
     "data": {
      "text/plain": [
       "array([[0., 1., 1., 0., 0., 0., 0., 0., 0., 0., 0., 1., 0., 1., 0., 0.,\n",
       "        0., 1.]], dtype=float32)"
      ]
     },
     "execution_count": 51,
     "metadata": {},
     "output_type": "execute_result"
    }
   ],
   "source": [
    "model.predict(imgResize(a.iloc[n]['image'],250.))"
   ]
  },
  {
   "cell_type": "code",
   "execution_count": 72,
   "metadata": {},
   "outputs": [],
   "source": [
    "b = pd.Categorical(data['name'])"
   ]
  },
  {
   "cell_type": "code",
   "execution_count": null,
   "metadata": {},
   "outputs": [],
   "source": []
  },
  {
   "cell_type": "code",
   "execution_count": 83,
   "metadata": {},
   "outputs": [
    {
     "name": "stdout",
     "output_type": "stream",
     "text": [
      "Rhizoctonia sp.引起之立枯病\n",
      "Rhizopus sp.引起之真菌性病害\n",
      "莖腐病\n",
      "薊馬類\n",
      "非洲菊斑潛蠅\n"
     ]
    }
   ],
   "source": [
    "for name,i in zip(b.categories,model.predict(imgResize(a.iloc[n]['image'],250.))[0]):\n",
    "    if i > 0:\n",
    "        print(name)"
   ]
  },
  {
   "cell_type": "code",
   "execution_count": 80,
   "metadata": {},
   "outputs": [
    {
     "data": {
      "text/plain": [
       "Index(['Phoma sp.引起之真菌性病害', 'Rhizoctonia sp.引起之立枯病', 'Rhizopus sp.引起之真菌性病害',\n",
       "       '炭疽病', '猝倒病', '疫病', '白粉病', '白絹病', '白銹病', '立枯病', '細菌性葉斑病', '莖腐病', '萎凋病',\n",
       "       '薊馬類', '蠅類', '鐮孢菌引起之萎凋病', '青枯病', '非洲菊斑潛蠅'],\n",
       "      dtype='object')"
      ]
     },
     "execution_count": 80,
     "metadata": {},
     "output_type": "execute_result"
    }
   ],
   "source": [
    "b.categories"
   ]
  },
  {
   "cell_type": "code",
   "execution_count": null,
   "metadata": {},
   "outputs": [],
   "source": []
  }
 ],
 "metadata": {
  "kernelspec": {
   "display_name": "Python (tf)",
   "language": "python",
   "name": "tf"
  },
  "language_info": {
   "codemirror_mode": {
    "name": "ipython",
    "version": 3
   },
   "file_extension": ".py",
   "mimetype": "text/x-python",
   "name": "python",
   "nbconvert_exporter": "python",
   "pygments_lexer": "ipython3",
   "version": "3.6.6"
  }
 },
 "nbformat": 4,
 "nbformat_minor": 2
}
